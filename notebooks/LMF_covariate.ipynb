{
 "cells": [
  {
   "cell_type": "code",
   "execution_count": 119,
   "metadata": {},
   "outputs": [],
   "source": [
    "import os\n",
    "import re\n",
    "import numpy as np\n",
    "import pandas as pd\n",
    "import matplotlib.pyplot as plt\n",
    "import seaborn as sns\n",
    "from PIL import Image, ImageOps\n",
    "from tqdm import trange \n",
    "from src.LMF import LMF, update_code_within_radius\n",
    "from src.SNMF import SNMF\n",
    "from sklearn.model_selection import StratifiedKFold\n",
    "\n",
    "# statistical test\n",
    "from scipy.stats import chi2_contingency\n",
    "from scipy.stats import chi2\n",
    "from scipy import stats\n",
    "from scipy.stats import ranksums"
   ]
  },
  {
   "cell_type": "code",
   "execution_count": 24,
   "metadata": {
    "collapsed": true,
    "jupyter": {
     "outputs_hidden": true
    }
   },
   "outputs": [
    {
     "data": {
      "text/plain": [
       "'/bigdata/statsdept'"
      ]
     },
     "execution_count": 24,
     "metadata": {},
     "output_type": "execute_result"
    }
   ],
   "source": [
    "os.chdir('../')\n",
    "os.getcwd()"
   ]
  },
  {
   "cell_type": "code",
   "execution_count": 29,
   "metadata": {},
   "outputs": [],
   "source": [
    "clinical_path = \"shared/data/LungSegmentation/ClinicalReadings/\"\n",
    "image_path = \"shared/data/LungSegmentation/CXR_png/\""
   ]
  },
  {
   "cell_type": "code",
   "execution_count": 45,
   "metadata": {
    "collapsed": true,
    "jupyter": {
     "outputs_hidden": true
    }
   },
   "outputs": [
    {
     "data": {
      "text/html": [
       "<div>\n",
       "<style scoped>\n",
       "    .dataframe tbody tr th:only-of-type {\n",
       "        vertical-align: middle;\n",
       "    }\n",
       "\n",
       "    .dataframe tbody tr th {\n",
       "        vertical-align: top;\n",
       "    }\n",
       "\n",
       "    .dataframe thead th {\n",
       "        text-align: right;\n",
       "    }\n",
       "</style>\n",
       "<table border=\"1\" class=\"dataframe\">\n",
       "  <thead>\n",
       "    <tr style=\"text-align: right;\">\n",
       "      <th></th>\n",
       "      <th>Id</th>\n",
       "      <th>Sex</th>\n",
       "      <th>Age</th>\n",
       "      <th>Diagnosis</th>\n",
       "    </tr>\n",
       "  </thead>\n",
       "  <tbody>\n",
       "    <tr>\n",
       "      <th>0</th>\n",
       "      <td>CHNCXR_0541_1</td>\n",
       "      <td>male</td>\n",
       "      <td>23</td>\n",
       "      <td>ptb in the right upper field</td>\n",
       "    </tr>\n",
       "    <tr>\n",
       "      <th>1</th>\n",
       "      <td>MCUCXR_0038_0</td>\n",
       "      <td>patient's sex: f</td>\n",
       "      <td>patient's age: 031y</td>\n",
       "      <td>normal</td>\n",
       "    </tr>\n",
       "    <tr>\n",
       "      <th>2</th>\n",
       "      <td>MCUCXR_0069_0</td>\n",
       "      <td>patient's sex: m</td>\n",
       "      <td>patient's age: 050y</td>\n",
       "      <td>normal</td>\n",
       "    </tr>\n",
       "    <tr>\n",
       "      <th>3</th>\n",
       "      <td>CHNCXR_0154_0</td>\n",
       "      <td>male</td>\n",
       "      <td>31</td>\n",
       "      <td>normal</td>\n",
       "    </tr>\n",
       "    <tr>\n",
       "      <th>4</th>\n",
       "      <td>MCUCXR_0082_0</td>\n",
       "      <td>patient's sex: f</td>\n",
       "      <td>patient's age: 020y</td>\n",
       "      <td>normal</td>\n",
       "    </tr>\n",
       "    <tr>\n",
       "      <th>...</th>\n",
       "      <td>...</td>\n",
       "      <td>...</td>\n",
       "      <td>...</td>\n",
       "      <td>...</td>\n",
       "    </tr>\n",
       "    <tr>\n",
       "      <th>795</th>\n",
       "      <td>CHNCXR_0090_0</td>\n",
       "      <td>male</td>\n",
       "      <td>39</td>\n",
       "      <td>normal</td>\n",
       "    </tr>\n",
       "    <tr>\n",
       "      <th>796</th>\n",
       "      <td>MCUCXR_0331_1</td>\n",
       "      <td>patient's sex: m</td>\n",
       "      <td>patient's age: 047y</td>\n",
       "      <td>inactive appearing rul tb scars</td>\n",
       "    </tr>\n",
       "    <tr>\n",
       "      <th>797</th>\n",
       "      <td>CHNCXR_0331_1</td>\n",
       "      <td>female</td>\n",
       "      <td>36</td>\n",
       "      <td>stb</td>\n",
       "    </tr>\n",
       "    <tr>\n",
       "      <th>798</th>\n",
       "      <td>CHNCXR_0661_1</td>\n",
       "      <td>male</td>\n",
       "      <td>26</td>\n",
       "      <td>bilateral secondary ptb  with right pleural th...</td>\n",
       "    </tr>\n",
       "    <tr>\n",
       "      <th>799</th>\n",
       "      <td>MCUCXR_0074_0</td>\n",
       "      <td>patient's sex: f</td>\n",
       "      <td>patient's age: 056y</td>\n",
       "      <td>normal</td>\n",
       "    </tr>\n",
       "  </tbody>\n",
       "</table>\n",
       "<p>800 rows × 4 columns</p>\n",
       "</div>"
      ],
      "text/plain": [
       "                Id               Sex                  Age  \\\n",
       "0    CHNCXR_0541_1              male                   23   \n",
       "1    MCUCXR_0038_0  patient's sex: f  patient's age: 031y   \n",
       "2    MCUCXR_0069_0  patient's sex: m  patient's age: 050y   \n",
       "3    CHNCXR_0154_0              male                   31   \n",
       "4    MCUCXR_0082_0  patient's sex: f  patient's age: 020y   \n",
       "..             ...               ...                  ...   \n",
       "795  CHNCXR_0090_0              male                   39   \n",
       "796  MCUCXR_0331_1  patient's sex: m  patient's age: 047y   \n",
       "797  CHNCXR_0331_1            female                   36   \n",
       "798  CHNCXR_0661_1              male                   26   \n",
       "799  MCUCXR_0074_0  patient's sex: f  patient's age: 056y   \n",
       "\n",
       "                                             Diagnosis  \n",
       "0                         ptb in the right upper field  \n",
       "1                                               normal  \n",
       "2                                               normal  \n",
       "3                                               normal  \n",
       "4                                               normal  \n",
       "..                                                 ...  \n",
       "795                                             normal  \n",
       "796                    inactive appearing rul tb scars  \n",
       "797                                                stb  \n",
       "798  bilateral secondary ptb  with right pleural th...  \n",
       "799                                             normal  \n",
       "\n",
       "[800 rows x 4 columns]"
      ]
     },
     "execution_count": 45,
     "metadata": {},
     "output_type": "execute_result"
    }
   ],
   "source": [
    "clinical_data_txt = os.listdir(clinical_path)\n",
    "ids = ' '.join(map(str, clinical_data_txt)).replace(\".txt\", \"\").split()\n",
    "clinical_data = []\n",
    "\n",
    "for idx, one_diagnosis in zip(ids, clinical_data_txt):\n",
    "    #print(idx, one_diagnosis)\n",
    "    with open(clinical_path + one_diagnosis) as f:\n",
    "        info = []\n",
    "        for line in f:\n",
    "            line = line.lower().strip()\n",
    "            \n",
    "            if \"mal\" in line and \"normal\" not in line and len(line) < 20:    \n",
    "                line = line.replace(\",\", \"\")\n",
    "                line = line.replace(\" \", \"\")\n",
    "                match = re.match(r\"([a-z]+)([0-9]+)\", line, re.I)\n",
    "                \n",
    "                if match:\n",
    "                    line = \" \".join(match.groups())\n",
    "                    \n",
    "                sex, age = zip(line.split())\n",
    "                info.extend([list(sex), list(age)])\n",
    "                continue\n",
    "                \n",
    "            info.append([line])\n",
    "            \n",
    "        info = [i for i in info if i != ['']]\n",
    "        info.insert(0, [idx])\n",
    "        info[3:] = [[i[0] for i in info[3:]]]\n",
    "        info = [i[0] for i in info]\n",
    "\n",
    "        clinical_data.append(info)\n",
    "\n",
    "clinical_data = pd.DataFrame(clinical_data, columns=[\"Id\", \"Sex\", \"Age\", \"Diagnosis\"])\n",
    "clinical_data"
   ]
  },
  {
   "cell_type": "code",
   "execution_count": 46,
   "metadata": {
    "collapsed": true,
    "jupyter": {
     "outputs_hidden": true
    }
   },
   "outputs": [
    {
     "data": {
      "text/html": [
       "<div>\n",
       "<style scoped>\n",
       "    .dataframe tbody tr th:only-of-type {\n",
       "        vertical-align: middle;\n",
       "    }\n",
       "\n",
       "    .dataframe tbody tr th {\n",
       "        vertical-align: top;\n",
       "    }\n",
       "\n",
       "    .dataframe thead th {\n",
       "        text-align: right;\n",
       "    }\n",
       "</style>\n",
       "<table border=\"1\" class=\"dataframe\">\n",
       "  <thead>\n",
       "    <tr style=\"text-align: right;\">\n",
       "      <th></th>\n",
       "      <th>Id</th>\n",
       "      <th>Sex</th>\n",
       "      <th>Age</th>\n",
       "      <th>Diagnosis</th>\n",
       "    </tr>\n",
       "  </thead>\n",
       "  <tbody>\n",
       "    <tr>\n",
       "      <th>0</th>\n",
       "      <td>CHNCXR_0541_1</td>\n",
       "      <td>male</td>\n",
       "      <td>23</td>\n",
       "      <td>ptb in the right upper field</td>\n",
       "    </tr>\n",
       "    <tr>\n",
       "      <th>1</th>\n",
       "      <td>MCUCXR_0038_0</td>\n",
       "      <td>female</td>\n",
       "      <td>patient's age: 031y</td>\n",
       "      <td>normal</td>\n",
       "    </tr>\n",
       "    <tr>\n",
       "      <th>2</th>\n",
       "      <td>MCUCXR_0069_0</td>\n",
       "      <td>male</td>\n",
       "      <td>patient's age: 050y</td>\n",
       "      <td>normal</td>\n",
       "    </tr>\n",
       "    <tr>\n",
       "      <th>3</th>\n",
       "      <td>CHNCXR_0154_0</td>\n",
       "      <td>male</td>\n",
       "      <td>31</td>\n",
       "      <td>normal</td>\n",
       "    </tr>\n",
       "    <tr>\n",
       "      <th>4</th>\n",
       "      <td>MCUCXR_0082_0</td>\n",
       "      <td>female</td>\n",
       "      <td>patient's age: 020y</td>\n",
       "      <td>normal</td>\n",
       "    </tr>\n",
       "    <tr>\n",
       "      <th>...</th>\n",
       "      <td>...</td>\n",
       "      <td>...</td>\n",
       "      <td>...</td>\n",
       "      <td>...</td>\n",
       "    </tr>\n",
       "    <tr>\n",
       "      <th>795</th>\n",
       "      <td>CHNCXR_0090_0</td>\n",
       "      <td>male</td>\n",
       "      <td>39</td>\n",
       "      <td>normal</td>\n",
       "    </tr>\n",
       "    <tr>\n",
       "      <th>796</th>\n",
       "      <td>MCUCXR_0331_1</td>\n",
       "      <td>male</td>\n",
       "      <td>patient's age: 047y</td>\n",
       "      <td>inactive appearing rul tb scars</td>\n",
       "    </tr>\n",
       "    <tr>\n",
       "      <th>797</th>\n",
       "      <td>CHNCXR_0331_1</td>\n",
       "      <td>female</td>\n",
       "      <td>36</td>\n",
       "      <td>stb</td>\n",
       "    </tr>\n",
       "    <tr>\n",
       "      <th>798</th>\n",
       "      <td>CHNCXR_0661_1</td>\n",
       "      <td>male</td>\n",
       "      <td>26</td>\n",
       "      <td>bilateral secondary ptb  with right pleural th...</td>\n",
       "    </tr>\n",
       "    <tr>\n",
       "      <th>799</th>\n",
       "      <td>MCUCXR_0074_0</td>\n",
       "      <td>female</td>\n",
       "      <td>patient's age: 056y</td>\n",
       "      <td>normal</td>\n",
       "    </tr>\n",
       "  </tbody>\n",
       "</table>\n",
       "<p>800 rows × 4 columns</p>\n",
       "</div>"
      ],
      "text/plain": [
       "                Id     Sex                  Age  \\\n",
       "0    CHNCXR_0541_1    male                   23   \n",
       "1    MCUCXR_0038_0  female  patient's age: 031y   \n",
       "2    MCUCXR_0069_0    male  patient's age: 050y   \n",
       "3    CHNCXR_0154_0    male                   31   \n",
       "4    MCUCXR_0082_0  female  patient's age: 020y   \n",
       "..             ...     ...                  ...   \n",
       "795  CHNCXR_0090_0    male                   39   \n",
       "796  MCUCXR_0331_1    male  patient's age: 047y   \n",
       "797  CHNCXR_0331_1  female                   36   \n",
       "798  CHNCXR_0661_1    male                   26   \n",
       "799  MCUCXR_0074_0  female  patient's age: 056y   \n",
       "\n",
       "                                             Diagnosis  \n",
       "0                         ptb in the right upper field  \n",
       "1                                               normal  \n",
       "2                                               normal  \n",
       "3                                               normal  \n",
       "4                                               normal  \n",
       "..                                                 ...  \n",
       "795                                             normal  \n",
       "796                    inactive appearing rul tb scars  \n",
       "797                                                stb  \n",
       "798  bilateral secondary ptb  with right pleural th...  \n",
       "799                                             normal  \n",
       "\n",
       "[800 rows x 4 columns]"
      ]
     },
     "execution_count": 46,
     "metadata": {},
     "output_type": "execute_result"
    }
   ],
   "source": [
    "clinical_data[\"Sex\"] = clinical_data[\"Sex\"].replace({\"patient's sex: f\": \"female\",\n",
    "                                                     \"patient's sex: m\": \"male\",\n",
    "                                                     \"femal\": \"female\",\n",
    "                                                     \"patient's sex: o\": \"male\"})\n",
    "clinical_data"
   ]
  },
  {
   "cell_type": "code",
   "execution_count": 47,
   "metadata": {
    "collapsed": true,
    "jupyter": {
     "outputs_hidden": true
    }
   },
   "outputs": [
    {
     "data": {
      "text/html": [
       "<div>\n",
       "<style scoped>\n",
       "    .dataframe tbody tr th:only-of-type {\n",
       "        vertical-align: middle;\n",
       "    }\n",
       "\n",
       "    .dataframe tbody tr th {\n",
       "        vertical-align: top;\n",
       "    }\n",
       "\n",
       "    .dataframe thead th {\n",
       "        text-align: right;\n",
       "    }\n",
       "</style>\n",
       "<table border=\"1\" class=\"dataframe\">\n",
       "  <thead>\n",
       "    <tr style=\"text-align: right;\">\n",
       "      <th></th>\n",
       "      <th>Id</th>\n",
       "      <th>Sex</th>\n",
       "      <th>Age</th>\n",
       "      <th>Diagnosis</th>\n",
       "    </tr>\n",
       "  </thead>\n",
       "  <tbody>\n",
       "    <tr>\n",
       "      <th>0</th>\n",
       "      <td>CHNCXR_0541_1</td>\n",
       "      <td>male</td>\n",
       "      <td>23</td>\n",
       "      <td>ptb in the right upper field</td>\n",
       "    </tr>\n",
       "    <tr>\n",
       "      <th>1</th>\n",
       "      <td>MCUCXR_0038_0</td>\n",
       "      <td>female</td>\n",
       "      <td>31</td>\n",
       "      <td>normal</td>\n",
       "    </tr>\n",
       "    <tr>\n",
       "      <th>2</th>\n",
       "      <td>MCUCXR_0069_0</td>\n",
       "      <td>male</td>\n",
       "      <td>50</td>\n",
       "      <td>normal</td>\n",
       "    </tr>\n",
       "    <tr>\n",
       "      <th>3</th>\n",
       "      <td>CHNCXR_0154_0</td>\n",
       "      <td>male</td>\n",
       "      <td>31</td>\n",
       "      <td>normal</td>\n",
       "    </tr>\n",
       "    <tr>\n",
       "      <th>4</th>\n",
       "      <td>MCUCXR_0082_0</td>\n",
       "      <td>female</td>\n",
       "      <td>20</td>\n",
       "      <td>normal</td>\n",
       "    </tr>\n",
       "    <tr>\n",
       "      <th>...</th>\n",
       "      <td>...</td>\n",
       "      <td>...</td>\n",
       "      <td>...</td>\n",
       "      <td>...</td>\n",
       "    </tr>\n",
       "    <tr>\n",
       "      <th>795</th>\n",
       "      <td>CHNCXR_0090_0</td>\n",
       "      <td>male</td>\n",
       "      <td>39</td>\n",
       "      <td>normal</td>\n",
       "    </tr>\n",
       "    <tr>\n",
       "      <th>796</th>\n",
       "      <td>MCUCXR_0331_1</td>\n",
       "      <td>male</td>\n",
       "      <td>47</td>\n",
       "      <td>inactive appearing rul tb scars</td>\n",
       "    </tr>\n",
       "    <tr>\n",
       "      <th>797</th>\n",
       "      <td>CHNCXR_0331_1</td>\n",
       "      <td>female</td>\n",
       "      <td>36</td>\n",
       "      <td>stb</td>\n",
       "    </tr>\n",
       "    <tr>\n",
       "      <th>798</th>\n",
       "      <td>CHNCXR_0661_1</td>\n",
       "      <td>male</td>\n",
       "      <td>26</td>\n",
       "      <td>bilateral secondary ptb  with right pleural th...</td>\n",
       "    </tr>\n",
       "    <tr>\n",
       "      <th>799</th>\n",
       "      <td>MCUCXR_0074_0</td>\n",
       "      <td>female</td>\n",
       "      <td>56</td>\n",
       "      <td>normal</td>\n",
       "    </tr>\n",
       "  </tbody>\n",
       "</table>\n",
       "<p>800 rows × 4 columns</p>\n",
       "</div>"
      ],
      "text/plain": [
       "                Id     Sex  Age  \\\n",
       "0    CHNCXR_0541_1    male   23   \n",
       "1    MCUCXR_0038_0  female   31   \n",
       "2    MCUCXR_0069_0    male   50   \n",
       "3    CHNCXR_0154_0    male   31   \n",
       "4    MCUCXR_0082_0  female   20   \n",
       "..             ...     ...  ...   \n",
       "795  CHNCXR_0090_0    male   39   \n",
       "796  MCUCXR_0331_1    male   47   \n",
       "797  CHNCXR_0331_1  female   36   \n",
       "798  CHNCXR_0661_1    male   26   \n",
       "799  MCUCXR_0074_0  female   56   \n",
       "\n",
       "                                             Diagnosis  \n",
       "0                         ptb in the right upper field  \n",
       "1                                               normal  \n",
       "2                                               normal  \n",
       "3                                               normal  \n",
       "4                                               normal  \n",
       "..                                                 ...  \n",
       "795                                             normal  \n",
       "796                    inactive appearing rul tb scars  \n",
       "797                                                stb  \n",
       "798  bilateral secondary ptb  with right pleural th...  \n",
       "799                                             normal  \n",
       "\n",
       "[800 rows x 4 columns]"
      ]
     },
     "execution_count": 47,
     "metadata": {},
     "output_type": "execute_result"
    }
   ],
   "source": [
    "age_list = clinical_data[\"Age\"].apply(lambda line: re.findall(r'([1-9]\\d+|[1-9])', line)).values\n",
    "\n",
    "clinical_data[\"Age\"] = [int(age[0]) for age in age_list]\n",
    "clinical_data"
   ]
  },
  {
   "cell_type": "code",
   "execution_count": 49,
   "metadata": {},
   "outputs": [],
   "source": [
    "clinical_data[\"disease\"] = \"_\"\n",
    "clinical_data.loc[(clinical_data[\"Diagnosis\"].str.contains(\"granulomas|granuloma|cavitary\") & (clinical_data[\"disease\"] == \"_\")), [\"disease\"]] = \"granuloma|cavitary\"\n",
    "clinical_data.loc[(clinical_data[\"Diagnosis\"].str.contains(\"pneumothorax|volume loss\") & (clinical_data[\"disease\"] == \"_\")), [\"disease\"]] = \"pneumothorax\"\n",
    "clinical_data.loc[(clinical_data[\"Diagnosis\"].str.contains(\"atelectasis\") & (clinical_data[\"disease\"] == \"_\")), [\"disease\"]] = \"atelectasis\"\n",
    "clinical_data.loc[(clinical_data[\"Diagnosis\"].str.contains(\"pleurisy\") & (clinical_data[\"disease\"] == \"_\")), [\"disease\"]] = \"pleurisy\"\n",
    "clinical_data.loc[(clinical_data[\"Diagnosis\"].str.contains(\"pneumonia\") & (clinical_data[\"disease\"] == \"_\")), [\"disease\"]] = \"pneumonia\"\n",
    "clinical_data.loc[(clinical_data[\"Diagnosis\"].str.contains(\"pleural thickening\") & (clinical_data[\"disease\"] == \"_\")), [\"disease\"]] = \"pleural thickening\"\n",
    "clinical_data.loc[(clinical_data[\"Diagnosis\"].str.contains(\"infiltrate\") & (clinical_data[\"disease\"] == \"_\")), [\"disease\"]] = \"infiltrate\"\n",
    "clinical_data.loc[(clinical_data[\"Diagnosis\"].str.contains(\"fibrous|fibrosis|scar\") & (clinical_data[\"disease\"] == \"_\")), [\"disease\"]] = \"fibrosis\"\n",
    "clinical_data.loc[(clinical_data[\"Diagnosis\"].str.contains(\"stb|ptb|tb|tuberculosis\") & (clinical_data[\"disease\"] == \"_\")), [\"disease\"]] = \"tuberculosis\"\n",
    "clinical_data.loc[(clinical_data[\"Diagnosis\"].str.contains(\"nolrmale\") & (clinical_data[\"disease\"] == \"_\")), [\"disease\"]] = \"no pathology\"\n",
    "clinical_data.loc[(clinical_data[\"Diagnosis\"] == \"normal\") & (clinical_data[\"disease\"] == \"_\"), [\"disease\"]] = \"no pathology\"\n",
    "clinical_data.loc[clinical_data[\"disease\"] == \"_\", [\"disease\"]] = \"unknown\""
   ]
  },
  {
   "cell_type": "code",
   "execution_count": 51,
   "metadata": {
    "collapsed": true,
    "jupyter": {
     "outputs_hidden": true
    }
   },
   "outputs": [
    {
     "data": {
      "text/plain": [
       "no pathology          405\n",
       "tuberculosis          315\n",
       "granuloma|cavitary     18\n",
       "fibrosis               15\n",
       "infiltrate             14\n",
       "pleurisy                9\n",
       "unknown                 7\n",
       "pleural thickening      5\n",
       "pneumothorax            5\n",
       "atelectasis             4\n",
       "pneumonia               3\n",
       "Name: disease, dtype: int64"
      ]
     },
     "execution_count": 51,
     "metadata": {},
     "output_type": "execute_result"
    }
   ],
   "source": [
    "clinical_data[\"disease\"].value_counts()"
   ]
  },
  {
   "cell_type": "code",
   "execution_count": 52,
   "metadata": {},
   "outputs": [
    {
     "data": {
      "text/html": [
       "<div>\n",
       "<style scoped>\n",
       "    .dataframe tbody tr th:only-of-type {\n",
       "        vertical-align: middle;\n",
       "    }\n",
       "\n",
       "    .dataframe tbody tr th {\n",
       "        vertical-align: top;\n",
       "    }\n",
       "\n",
       "    .dataframe thead th {\n",
       "        text-align: right;\n",
       "    }\n",
       "</style>\n",
       "<table border=\"1\" class=\"dataframe\">\n",
       "  <thead>\n",
       "    <tr style=\"text-align: right;\">\n",
       "      <th></th>\n",
       "      <th>Id</th>\n",
       "      <th>Sex</th>\n",
       "      <th>Age</th>\n",
       "      <th>Diagnosis</th>\n",
       "      <th>disease</th>\n",
       "      <th>target</th>\n",
       "    </tr>\n",
       "  </thead>\n",
       "  <tbody>\n",
       "    <tr>\n",
       "      <th>0</th>\n",
       "      <td>CHNCXR_0541_1</td>\n",
       "      <td>male</td>\n",
       "      <td>23</td>\n",
       "      <td>ptb in the right upper field</td>\n",
       "      <td>tuberculosis</td>\n",
       "      <td>1</td>\n",
       "    </tr>\n",
       "    <tr>\n",
       "      <th>1</th>\n",
       "      <td>MCUCXR_0038_0</td>\n",
       "      <td>female</td>\n",
       "      <td>31</td>\n",
       "      <td>normal</td>\n",
       "      <td>no pathology</td>\n",
       "      <td>0</td>\n",
       "    </tr>\n",
       "    <tr>\n",
       "      <th>2</th>\n",
       "      <td>MCUCXR_0069_0</td>\n",
       "      <td>male</td>\n",
       "      <td>50</td>\n",
       "      <td>normal</td>\n",
       "      <td>no pathology</td>\n",
       "      <td>0</td>\n",
       "    </tr>\n",
       "    <tr>\n",
       "      <th>3</th>\n",
       "      <td>CHNCXR_0154_0</td>\n",
       "      <td>male</td>\n",
       "      <td>31</td>\n",
       "      <td>normal</td>\n",
       "      <td>no pathology</td>\n",
       "      <td>0</td>\n",
       "    </tr>\n",
       "    <tr>\n",
       "      <th>4</th>\n",
       "      <td>MCUCXR_0082_0</td>\n",
       "      <td>female</td>\n",
       "      <td>20</td>\n",
       "      <td>normal</td>\n",
       "      <td>no pathology</td>\n",
       "      <td>0</td>\n",
       "    </tr>\n",
       "    <tr>\n",
       "      <th>...</th>\n",
       "      <td>...</td>\n",
       "      <td>...</td>\n",
       "      <td>...</td>\n",
       "      <td>...</td>\n",
       "      <td>...</td>\n",
       "      <td>...</td>\n",
       "    </tr>\n",
       "    <tr>\n",
       "      <th>795</th>\n",
       "      <td>CHNCXR_0090_0</td>\n",
       "      <td>male</td>\n",
       "      <td>39</td>\n",
       "      <td>normal</td>\n",
       "      <td>no pathology</td>\n",
       "      <td>0</td>\n",
       "    </tr>\n",
       "    <tr>\n",
       "      <th>796</th>\n",
       "      <td>MCUCXR_0331_1</td>\n",
       "      <td>male</td>\n",
       "      <td>47</td>\n",
       "      <td>inactive appearing rul tb scars</td>\n",
       "      <td>fibrosis</td>\n",
       "      <td>0</td>\n",
       "    </tr>\n",
       "    <tr>\n",
       "      <th>797</th>\n",
       "      <td>CHNCXR_0331_1</td>\n",
       "      <td>female</td>\n",
       "      <td>36</td>\n",
       "      <td>stb</td>\n",
       "      <td>tuberculosis</td>\n",
       "      <td>1</td>\n",
       "    </tr>\n",
       "    <tr>\n",
       "      <th>798</th>\n",
       "      <td>CHNCXR_0661_1</td>\n",
       "      <td>male</td>\n",
       "      <td>26</td>\n",
       "      <td>bilateral secondary ptb  with right pleural th...</td>\n",
       "      <td>pleural thickening</td>\n",
       "      <td>0</td>\n",
       "    </tr>\n",
       "    <tr>\n",
       "      <th>799</th>\n",
       "      <td>MCUCXR_0074_0</td>\n",
       "      <td>female</td>\n",
       "      <td>56</td>\n",
       "      <td>normal</td>\n",
       "      <td>no pathology</td>\n",
       "      <td>0</td>\n",
       "    </tr>\n",
       "  </tbody>\n",
       "</table>\n",
       "<p>800 rows × 6 columns</p>\n",
       "</div>"
      ],
      "text/plain": [
       "                Id     Sex  Age  \\\n",
       "0    CHNCXR_0541_1    male   23   \n",
       "1    MCUCXR_0038_0  female   31   \n",
       "2    MCUCXR_0069_0    male   50   \n",
       "3    CHNCXR_0154_0    male   31   \n",
       "4    MCUCXR_0082_0  female   20   \n",
       "..             ...     ...  ...   \n",
       "795  CHNCXR_0090_0    male   39   \n",
       "796  MCUCXR_0331_1    male   47   \n",
       "797  CHNCXR_0331_1  female   36   \n",
       "798  CHNCXR_0661_1    male   26   \n",
       "799  MCUCXR_0074_0  female   56   \n",
       "\n",
       "                                             Diagnosis             disease  \\\n",
       "0                         ptb in the right upper field        tuberculosis   \n",
       "1                                               normal        no pathology   \n",
       "2                                               normal        no pathology   \n",
       "3                                               normal        no pathology   \n",
       "4                                               normal        no pathology   \n",
       "..                                                 ...                 ...   \n",
       "795                                             normal        no pathology   \n",
       "796                    inactive appearing rul tb scars            fibrosis   \n",
       "797                                                stb        tuberculosis   \n",
       "798  bilateral secondary ptb  with right pleural th...  pleural thickening   \n",
       "799                                             normal        no pathology   \n",
       "\n",
       "     target  \n",
       "0         1  \n",
       "1         0  \n",
       "2         0  \n",
       "3         0  \n",
       "4         0  \n",
       "..      ...  \n",
       "795       0  \n",
       "796       0  \n",
       "797       1  \n",
       "798       0  \n",
       "799       0  \n",
       "\n",
       "[800 rows x 6 columns]"
      ]
     },
     "execution_count": 52,
     "metadata": {},
     "output_type": "execute_result"
    }
   ],
   "source": [
    "clinical_data[\"target\"] = 0\n",
    "clinical_data.loc[clinical_data[\"disease\"] == \"tuberculosis\", [\"target\"]] = 1\n",
    "clinical_data"
   ]
  },
  {
   "cell_type": "code",
   "execution_count": 59,
   "metadata": {},
   "outputs": [
    {
     "data": {
      "image/png": "[encoded data removed]",
      "text/plain": [
       "<Figure size 862.5x396 with 1 Axes>"
      ]
     },
     "metadata": {
      "needs_background": "light"
     },
     "output_type": "display_data"
    }
   ],
   "source": [
    "x = clinical_data.groupby(['target', 'Sex'])['Id'].count().to_frame().reset_index()\n",
    "x.style.background_gradient(cmap='Reds')  \n",
    "\n",
    "sns.catplot(x='target', y='Id', hue='Sex', data=x, kind=\"bar\", height=5.5, aspect=2, palette=\"cool\", capsize=.05)\n",
    "plt.ylabel('Count', fontsize=15)\n",
    "plt.xlabel('No Tuberculosis:0 vs Tuberculosis:1', fontsize=15);"
   ]
  },
  {
   "cell_type": "code",
   "execution_count": 64,
   "metadata": {},
   "outputs": [
    {
     "name": "stdout",
     "output_type": "stream",
     "text": [
      "stat: 3.5601854315094537\n",
      "p: 0.05918112740617956\n",
      "dof 1\n"
     ]
    }
   ],
   "source": [
    "# chi-square test\n",
    "table = [[187, 298],\n",
    "        [100, 215]]\n",
    "stat, p, dof, expected = chi2_contingency(table)\n",
    "print(\"stat:\", stat)\n",
    "print(\"p:\", p)\n",
    "print(\"dof\", dof)"
   ]
  },
  {
   "cell_type": "code",
   "execution_count": 73,
   "metadata": {},
   "outputs": [
    {
     "data": {
      "text/plain": [
       "Text(0.5, 0, 'No Tuberculosis:0 vs Tuberculosis:1')"
      ]
     },
     "execution_count": 73,
     "metadata": {},
     "output_type": "execute_result"
    },
    {
     "data": {
      "image/png": "[encoded data removed]",
      "text/plain": [
       "<Figure size 432x288 with 1 Axes>"
      ]
     },
     "metadata": {
      "needs_background": "light"
     },
     "output_type": "display_data"
    }
   ],
   "source": [
    "sns.boxplot(x=\"target\", y=\"Age\", data=clinical_data)\n",
    "plt.xlabel('No Tuberculosis:0 vs Tuberculosis:1', fontsize=15)"
   ]
  },
  {
   "cell_type": "code",
   "execution_count": 71,
   "metadata": {},
   "outputs": [
    {
     "data": {
      "text/plain": [
       "Ttest_indResult(statistic=2.3318639490866078, pvalue=0.019955823537686462)"
      ]
     },
     "execution_count": 71,
     "metadata": {},
     "output_type": "execute_result"
    }
   ],
   "source": [
    "# t-test\n",
    "tb_age = clinical_data[clinical_data[\"target\"]==1][\"Age\"]\n",
    "ntb_age = clinical_data[clinical_data[\"target\"]==0][\"Age\"]\n",
    "stats.ttest_ind(tb_age, ntb_age)"
   ]
  },
  {
   "cell_type": "code",
   "execution_count": 77,
   "metadata": {},
   "outputs": [
    {
     "data": {
      "text/plain": [
       "RanksumsResult(statistic=1.655451475764082, pvalue=0.09783295166469244)"
      ]
     },
     "execution_count": 77,
     "metadata": {},
     "output_type": "execute_result"
    }
   ],
   "source": [
    "# wilcoxon rank sum\n",
    "ranksums(tb_age, ntb_age)"
   ]
  },
  {
   "cell_type": "code",
   "execution_count": null,
   "metadata": {},
   "outputs": [],
   "source": [
    "img = Image.open(image_path)\n"
   ]
  },
  {
   "cell_type": "code",
   "execution_count": 79,
   "metadata": {},
   "outputs": [],
   "source": [
    "def read_img_as_array(path, img_size=[50, 50]):\n",
    "    '''\n",
    "    Read input image as a narray\n",
    "    '''\n",
    "\n",
    "    img = Image.open(path)\n",
    "    img = ImageOps.grayscale(img)\n",
    "    # img = img.convert('RGB')\n",
    "\n",
    "    img = img.resize(img_size)\n",
    "    # normalize pixel values (range 0-1)\n",
    "    data = np.asarray(img) / 255\n",
    "    # print('data.shape', data.shape)\n",
    "    return data"
   ]
  },
  {
   "cell_type": "code",
   "execution_count": 168,
   "metadata": {},
   "outputs": [],
   "source": [
    "def process_path(path, IMAGE_SIZE=[100, 100], subsample_ratio=1):\n",
    "    print('!!! Loading input images')\n",
    "    ######## Load images as an array and their IDs as a list\n",
    "    file_list = os.listdir(path=path)\n",
    "    data_full = [] # array of vectorized images\n",
    "    file_image_id = [] # list of image IDs\n",
    "\n",
    "    for i in trange(len(file_list)//subsample_ratio):\n",
    "    #for i in trange(len(file_list)):\n",
    "        path0 = path + file_list[i]\n",
    "        array = read_img_as_array(path0, IMAGE_SIZE).reshape(-1) # vectorize image\n",
    "        data_full.append(array)\n",
    "\n",
    "    data_full = np.asarray(data_full).T\n",
    "    print('data_full.shape', data_full.shape)\n",
    "\n",
    "    return data_full"
   ]
  },
  {
   "cell_type": "code",
   "execution_count": 169,
   "metadata": {},
   "outputs": [
    {
     "name": "stderr",
     "output_type": "stream",
     "text": [
      "  0%|          | 0/800 [00:00<?, ?it/s]"
     ]
    },
    {
     "name": "stdout",
     "output_type": "stream",
     "text": [
      "!!! Loading input images\n"
     ]
    },
    {
     "name": "stderr",
     "output_type": "stream",
     "text": [
      "100%|██████████| 800/800 [03:49<00:00,  3.49it/s]\n"
     ]
    },
    {
     "name": "stdout",
     "output_type": "stream",
     "text": [
      "data_full.shape (10000, 800)\n"
     ]
    }
   ],
   "source": [
    "image_path = \"shared/data/LungSegmentation/CXR_png/\"\n",
    "X = process_path(image_path)"
   ]
  },
  {
   "cell_type": "code",
   "execution_count": 170,
   "metadata": {},
   "outputs": [],
   "source": [
    "Y = clinical_data[\"target\"].values\n",
    "Y = np.reshape(Y, (1, len(Y))) # print(Y) # convert 2-dim array : 1 x 15000 (row vector)"
   ]
  },
  {
   "cell_type": "code",
   "execution_count": 108,
   "metadata": {
    "collapsed": true,
    "jupyter": {
     "outputs_hidden": true
    }
   },
   "outputs": [
    {
     "name": "stdout",
     "output_type": "stream",
     "text": [
      "(2, 800)\n"
     ]
    }
   ],
   "source": [
    "covariates = clinical_data[[\"Age\", \"Sex\"]].values\n",
    "covariates = covariates.T\n",
    "print(covariates.shape)"
   ]
  },
  {
   "cell_type": "code",
   "execution_count": 153,
   "metadata": {},
   "outputs": [],
   "source": [
    "for i in np.arange(covariates.shape[1]):\n",
    "    if covariates[1,i] == 'female':\n",
    "        covariates[1,i] = 0\n",
    "    else:\n",
    "        covariates[1,i] = 1\n",
    "\n",
    "covariates = covariates.astype(float)"
   ]
  },
  {
   "cell_type": "code",
   "execution_count": 171,
   "metadata": {},
   "outputs": [
    {
     "name": "stdout",
     "output_type": "stream",
     "text": [
      "(10000, 640)\n",
      "(10000, 160)\n",
      "(1, 640)\n",
      "(1, 160)\n",
      "(2, 640)\n",
      "(2, 160)\n"
     ]
    }
   ],
   "source": [
    "cv = StratifiedKFold(n_splits=5, shuffle=True, random_state=1)\n",
    "idx_list = []\n",
    "for idx in cv.split(np.zeros(X.shape[1]), np.zeros(X.shape[1])):  # split(X,Y)\n",
    "    idx_list.append(idx)\n",
    "\n",
    "fold_idx = 0  # 0~4\n",
    "train_idx, test_idx = idx_list[fold_idx]\n",
    "\n",
    "Y_train = Y[:, train_idx]\n",
    "Y_test = Y[:, test_idx]\n",
    "X_train = X[:, train_idx]\n",
    "X_test = X[:, test_idx]\n",
    "covariates_train = covariates[:, train_idx]\n",
    "covariates_test = covariates[:, test_idx]\n",
    "print(X_train.shape)\n",
    "print(X_test.shape)\n",
    "print(Y_train.shape)\n",
    "print(Y_test.shape)\n",
    "print(covariates_train.shape)\n",
    "print(covariates_test.shape)"
   ]
  },
  {
   "cell_type": "code",
   "execution_count": 155,
   "metadata": {},
   "outputs": [
    {
     "data": {
      "text/plain": [
       "array([[31., 50., 31., ..., 39., 47., 26.],\n",
       "       [ 1.,  1.,  1., ...,  1.,  1.,  1.]])"
      ]
     },
     "execution_count": 155,
     "metadata": {},
     "output_type": "execute_result"
    }
   ],
   "source": [
    "covariates_train"
   ]
  },
  {
   "cell_type": "code",
   "execution_count": 188,
   "metadata": {},
   "outputs": [],
   "source": [
    "# LMF\n",
    "r = 25\n",
    "xi = 5\n",
    "\n",
    "LMF_class = LMF(X=[X_train, Y_train],  # [X = [X,Y] : data (d1 x n), label (d2 x n)]\n",
    "                #X_auxiliary=covariates_train, # covariate data (d3 x n) that is subject to LR but not to NMF\n",
    "                X_test=[X_test, Y_test], # test data, test label\n",
    "                #X_test_aux=covariates_test, # cov test data (d3 x n)\n",
    "                n_components=r,  # =: r = number of columns in dictionary matrices W, W'\n",
    "                iterations=100,\n",
    "                ini_loading=None,  # Initialization for [W1, W2, W3] = [(dict), (reg. coeff), (reg. coeff for cov var.)]\n",
    "                xi=xi,  # weight on label reconstruction error\n",
    "                a0=0,  # L1 regularizer for dictionary W[0]\n",
    "                a1=0,  # L1 regularizer for code matrix H\n",
    "                a2=0,  # L1 regularizer for linear coefficients beta\n",
    "                full_dim=True) # if true, dictionary is Id with full dimension --> Pure regression"
   ]
  },
  {
   "cell_type": "code",
   "execution_count": null,
   "metadata": {},
   "outputs": [
    {
     "name": "stderr",
     "output_type": "stream",
     "text": [
      "  0%|          | 0/100 [00:00<?, ?it/s]"
     ]
    }
   ],
   "source": [
    "results_dict = LMF_class.train_logistic(iter=100, subsample_size=100, if_compute_recons_error=True)"
   ]
  },
  {
   "cell_type": "code",
   "execution_count": null,
   "metadata": {},
   "outputs": [],
   "source": [
    "LMF_class.validation(results_dict,\n",
    "                     X_test = [X_train, Y_train],\n",
    "                     #X_test_aux = covariates_test,\n",
    "                     sub_iter=100,\n",
    "                     stopping_grad_ratio=0.0001)"
   ]
  },
  {
   "cell_type": "code",
   "execution_count": 182,
   "metadata": {},
   "outputs": [],
   "source": [
    "# LMF\n",
    "r = 25\n",
    "xi = 10\n",
    "\n",
    "LMF_class = LMF(X=[X_train, Y_train],  # [X = [X,Y] : data (d1 x n), label (d2 x n)]\n",
    "                X_auxiliary=covariates_train, # covariate data (d3 x n) that is subject to LR but not to NMF\n",
    "                X_test=[X_test, Y_test], # test data, test label\n",
    "                X_test_aux=covariates_test, # cov test data (d3 x n)\n",
    "                n_components=r,  # =: r = number of columns in dictionary matrices W, W'\n",
    "                iterations=100,\n",
    "                ini_loading=None,  # Initialization for [W1, W2, W3] = [(dict), (reg. coeff), (reg. coeff for cov var.)]\n",
    "                xi=xi,  # weight on label reconstruction error\n",
    "                a0=0,  # L1 regularizer for dictionary W[0]\n",
    "                a1=0,  # L1 regularizer for code matrix H\n",
    "                a2=0,  # L1 regularizer for linear coefficients beta\n",
    "                full_dim=False) # if true, dictionary is Id with full dimension --> Pure regression"
   ]
  },
  {
   "cell_type": "code",
   "execution_count": 183,
   "metadata": {},
   "outputs": [
    {
     "name": "stderr",
     "output_type": "stream",
     "text": [
      "  0%|          | 0/100 [00:00<?, ?it/s]/rhome/jlee1183/LMF/src/LMF.py:326: VisibleDeprecationWarning: Creating an ndarray from ragged nested sequences (which is a list-or-tuple of lists-or-tuples-or ndarrays with different lengths or shapes) is deprecated. If you meant to do this, you must specify 'dtype=object' when creating the ndarray.\n",
      "  error_label = np.sum(np.log(1+np.exp(W[1] @ H_ext))) - X[1] @ (W[1] @ H_ext).T\n",
      "  1%|          | 1/100 [00:01<03:13,  1.95s/it]/rhome/jlee1183/LMF/src/LMF.py:190: RuntimeWarning: overflow encountered in exp\n",
      "  D = W[1] @ H1_ext\n"
     ]
    },
    {
     "name": "stdout",
     "output_type": "stream",
     "text": [
      "!!! Iteration 0: Reconstruction error [Data, Label] = [830.812640.3, 115770.523909.3]\n",
      "!!! W norm 74.03789747822309\n"
     ]
    },
    {
     "name": "stderr",
     "output_type": "stream",
     "text": [
      "/rhome/jlee1183/LMF/src/LMF.py:134: RuntimeWarning: overflow encountered in exp\n",
      "  A = H @ H.T\n",
      " 11%|█         | 11/100 [00:22<03:13,  2.17s/it]"
     ]
    },
    {
     "name": "stdout",
     "output_type": "stream",
     "text": [
      "!!! Iteration 10: Reconstruction error [Data, Label] = [387.447496.3, 97300.944355.3]\n",
      "!!! W norm 48.64175175536657\n"
     ]
    },
    {
     "name": "stderr",
     "output_type": "stream",
     "text": [
      " 21%|██        | 21/100 [00:43<02:47,  2.12s/it]"
     ]
    },
    {
     "name": "stdout",
     "output_type": "stream",
     "text": [
      "!!! Iteration 20: Reconstruction error [Data, Label] = [344.848883.3, 25.443723.3]\n",
      "!!! W norm 45.454089400545385\n"
     ]
    },
    {
     "name": "stderr",
     "output_type": "stream",
     "text": [
      " 31%|███       | 31/100 [01:04<02:25,  2.11s/it]"
     ]
    },
    {
     "name": "stdout",
     "output_type": "stream",
     "text": [
      "!!! Iteration 30: Reconstruction error [Data, Label] = [324.973376.3, 13.259763.3]\n",
      "!!! W norm 43.21434811971221\n"
     ]
    },
    {
     "name": "stderr",
     "output_type": "stream",
     "text": [
      " 41%|████      | 41/100 [01:24<02:04,  2.11s/it]"
     ]
    },
    {
     "name": "stdout",
     "output_type": "stream",
     "text": [
      "!!! Iteration 40: Reconstruction error [Data, Label] = [310.763192.3, 12.144880.3]\n",
      "!!! W norm 41.51379335997233\n"
     ]
    },
    {
     "name": "stderr",
     "output_type": "stream",
     "text": [
      " 51%|█████     | 51/100 [01:45<01:43,  2.12s/it]"
     ]
    },
    {
     "name": "stdout",
     "output_type": "stream",
     "text": [
      "!!! Iteration 50: Reconstruction error [Data, Label] = [300.128905.3, 10.435195.3]\n",
      "!!! W norm 40.06162719233662\n"
     ]
    },
    {
     "name": "stderr",
     "output_type": "stream",
     "text": [
      " 61%|██████    | 61/100 [02:06<01:22,  2.13s/it]"
     ]
    },
    {
     "name": "stdout",
     "output_type": "stream",
     "text": [
      "!!! Iteration 60: Reconstruction error [Data, Label] = [292.111416.3, 9.683661.3]\n",
      "!!! W norm 38.823223960562416\n"
     ]
    },
    {
     "name": "stderr",
     "output_type": "stream",
     "text": [
      " 71%|███████   | 71/100 [02:26<01:00,  2.10s/it]"
     ]
    },
    {
     "name": "stdout",
     "output_type": "stream",
     "text": [
      "!!! Iteration 70: Reconstruction error [Data, Label] = [285.390406.3, 7.978557.3]\n",
      "!!! W norm 37.779721637165245\n"
     ]
    },
    {
     "name": "stderr",
     "output_type": "stream",
     "text": [
      " 81%|████████  | 81/100 [02:47<00:40,  2.11s/it]"
     ]
    },
    {
     "name": "stdout",
     "output_type": "stream",
     "text": [
      "!!! Iteration 80: Reconstruction error [Data, Label] = [279.892538.3, 7.206608.3]\n",
      "!!! W norm 36.9129573899627\n"
     ]
    },
    {
     "name": "stderr",
     "output_type": "stream",
     "text": [
      " 91%|█████████ | 91/100 [03:07<00:19,  2.13s/it]"
     ]
    },
    {
     "name": "stdout",
     "output_type": "stream",
     "text": [
      "!!! Iteration 90: Reconstruction error [Data, Label] = [275.331399.3, 6.410269.3]\n",
      "!!! W norm 36.27964467497289\n"
     ]
    },
    {
     "name": "stderr",
     "output_type": "stream",
     "text": [
      "100%|██████████| 100/100 [03:26<00:00,  2.06s/it]\n"
     ]
    }
   ],
   "source": [
    "results_dict = LMF_class.train_logistic(iter=100, subsample_size=100, if_compute_recons_error=True)"
   ]
  },
  {
   "cell_type": "code",
   "execution_count": 184,
   "metadata": {},
   "outputs": [
    {
     "name": "stdout",
     "output_type": "stream",
     "text": [
      "!!! [threshold, AUC] =  [0.0, 0.425]\n"
     ]
    },
    {
     "data": {
      "text/plain": [
       "{'loading': [array([[0.01494073, 0.        , 0.04554109, ..., 0.        , 0.        ,\n",
       "          0.02887875],\n",
       "         [0.00947745, 0.        , 0.03165253, ..., 0.        , 0.        ,\n",
       "          0.01679582],\n",
       "         [0.00637554, 0.        , 0.0318379 , ..., 0.        , 0.        ,\n",
       "          0.01828072],\n",
       "         ...,\n",
       "         [0.03522654, 0.        , 0.12314797, ..., 0.        , 0.        ,\n",
       "          0.07573304],\n",
       "         [0.04256853, 0.        , 0.10459951, ..., 0.        , 0.00530886,\n",
       "          0.12790022],\n",
       "         [0.01668617, 0.        , 0.06370484, ..., 0.05406157, 0.03616939,\n",
       "          0.13879932]]),\n",
       "  array([[-0.25622271, -0.16295339, -0.02551325,  0.61422373,  0.43527326,\n",
       "           4.75331604,  3.02242032,  3.62080771,  1.71195584,  5.49509732,\n",
       "           5.27860217,  1.16057326,  2.38737162, -0.3815131 ,  0.31884927,\n",
       "           1.55090702,  6.11725341,  3.68835785,  0.34737074,  0.10243272,\n",
       "           0.23573552, -0.20295776,  0.58402395,  0.42650119,  0.32169212,\n",
       "           0.27393456, -3.30363039, -0.4220738 ]])],\n",
       " 'time_error': array([[1.6939828395843506, 22.377031803131104, 43.08568549156189,\n",
       "         63.318827390670776, 83.5619490146637, 103.89442276954651,\n",
       "         124.22439384460449, 144.41248512268066, 164.84106063842773,\n",
       "         185.26453161239624],\n",
       "        [830.8126401877447, 387.447496282314, 344.848883316827,\n",
       "         324.97337562724744, 310.76319190668704, 300.1289051588994,\n",
       "         292.1114155731435, 285.3904056565111, 279.8925376481703,\n",
       "         275.3313985759951],\n",
       "        [array([[115770.52390855]]), array([[97300.9443547]]),\n",
       "         array([[25.44372298]]), array([[13.2597629]]),\n",
       "         array([[12.14487997]]), array([[10.43519499]]),\n",
       "         array([[9.68366126]]), array([[7.97855665]]),\n",
       "         array([[7.20660767]]), array([[6.41026899]])]], dtype=object),\n",
       " 'iter': 100,\n",
       " 'n_components': 25,\n",
       " 'Y_test': array([[1, 0, 1, 0, 0, 1, 0, 0, 0, 1, 1, 0, 0, 0, 1, 0, 0, 0, 1, 1, 0, 1,\n",
       "         0, 1, 0, 1, 1, 1, 1, 0, 0, 0, 0, 0, 0, 0, 0, 1, 1, 0, 0, 1, 0, 0,\n",
       "         0, 1, 1, 0, 0, 1, 1, 0, 1, 1, 1, 1, 1, 0, 1, 1, 1, 1, 0, 1, 0, 1,\n",
       "         0, 1, 1, 1, 0, 0, 0, 0, 0, 0, 1, 0, 0, 0, 0, 0, 0, 1, 0, 0, 0, 0,\n",
       "         1, 1, 0, 0, 0, 0, 0, 0, 1, 1, 1, 0, 0, 1, 0, 1, 1, 0, 0, 0, 0, 1,\n",
       "         1, 0, 1, 0, 0, 1, 1, 1, 0, 1, 0, 1, 1, 0, 1, 0, 0, 1, 1, 1, 1, 0,\n",
       "         0, 0, 1, 1, 0, 0, 1, 0, 0, 0, 1, 1, 0, 1, 0, 0, 0, 0, 1, 0, 0, 1,\n",
       "         0, 0, 1, 1, 1, 0]]),\n",
       " 'P_pred': array([[2.01068730e-025],\n",
       "        [2.19452095e-036],\n",
       "        [1.41718948e-022],\n",
       "        [3.15283553e-056],\n",
       "        [1.79002321e-045],\n",
       "        [1.55271863e-080],\n",
       "        [5.24587151e-030],\n",
       "        [3.54178807e-012],\n",
       "        [5.21495728e-014],\n",
       "        [6.78410322e-017],\n",
       "        [8.43143788e-039],\n",
       "        [2.36170493e-093],\n",
       "        [1.21458196e-025],\n",
       "        [9.97260130e-001],\n",
       "        [9.66747254e-055],\n",
       "        [1.29570614e-032],\n",
       "        [9.98141444e-001],\n",
       "        [3.77254507e-050],\n",
       "        [5.88392631e-034],\n",
       "        [1.69348337e-016],\n",
       "        [7.96475983e-032],\n",
       "        [9.18208887e-042],\n",
       "        [2.34929272e-090],\n",
       "        [1.57416546e-045],\n",
       "        [5.72950586e-078],\n",
       "        [2.46806777e-098],\n",
       "        [3.05452462e-072],\n",
       "        [4.01979356e-039],\n",
       "        [9.19377150e-029],\n",
       "        [1.50175019e-030],\n",
       "        [2.70387950e-027],\n",
       "        [3.98159156e-077],\n",
       "        [1.28377580e-010],\n",
       "        [8.95376909e-052],\n",
       "        [2.40825559e-082],\n",
       "        [2.12281525e-033],\n",
       "        [5.44894590e-072],\n",
       "        [7.46233146e-039],\n",
       "        [2.01367155e-037],\n",
       "        [3.56908326e-021],\n",
       "        [1.03117870e-023],\n",
       "        [2.93454753e-030],\n",
       "        [7.55194265e-071],\n",
       "        [2.05890919e-047],\n",
       "        [1.62396283e-067],\n",
       "        [2.94247551e-101],\n",
       "        [3.96207869e-047],\n",
       "        [1.05828642e-031],\n",
       "        [6.07190094e-040],\n",
       "        [4.37528943e-078],\n",
       "        [3.43381142e-030],\n",
       "        [1.45310904e-025],\n",
       "        [9.97439413e-060],\n",
       "        [1.90685312e-066],\n",
       "        [4.91238246e-037],\n",
       "        [1.04214294e-054],\n",
       "        [6.62464536e-050],\n",
       "        [6.88717831e-021],\n",
       "        [3.56804239e-027],\n",
       "        [4.90394210e-049],\n",
       "        [2.53252728e-039],\n",
       "        [1.12739187e-040],\n",
       "        [2.98441063e-033],\n",
       "        [7.71568292e-030],\n",
       "        [9.99539081e-001],\n",
       "        [2.31508969e-033],\n",
       "        [3.36443269e-027],\n",
       "        [3.50247339e-038],\n",
       "        [6.70618190e-053],\n",
       "        [1.29867155e-036],\n",
       "        [2.19372618e-058],\n",
       "        [3.06209160e-050],\n",
       "        [2.34493780e-033],\n",
       "        [2.61725771e-039],\n",
       "        [1.93061113e-057],\n",
       "        [1.21750534e-002],\n",
       "        [1.38871764e-053],\n",
       "        [9.99999684e-001],\n",
       "        [5.13844317e-062],\n",
       "        [1.17683878e-064],\n",
       "        [1.31661682e-061],\n",
       "        [1.22761492e-023],\n",
       "        [3.01271821e-021],\n",
       "        [1.28148140e-083],\n",
       "        [1.08044927e-052],\n",
       "        [1.26871553e-041],\n",
       "        [6.91706497e-029],\n",
       "        [3.26563021e-043],\n",
       "        [5.20949922e-034],\n",
       "        [4.88498126e-068],\n",
       "        [1.54719547e-004],\n",
       "        [7.22092614e-027],\n",
       "        [3.78456065e-031],\n",
       "        [3.71608134e-036],\n",
       "        [1.07494517e-027],\n",
       "        [2.58523980e-024],\n",
       "        [9.37548088e-104],\n",
       "        [1.15894119e-057],\n",
       "        [6.40723296e-022],\n",
       "        [3.07519651e-040],\n",
       "        [2.04798811e-054],\n",
       "        [3.21248541e-023],\n",
       "        [1.08429515e-051],\n",
       "        [1.45673305e-046],\n",
       "        [2.38031352e-026],\n",
       "        [4.01795149e-038],\n",
       "        [8.37332224e-036],\n",
       "        [1.73370305e-059],\n",
       "        [2.38025337e-041],\n",
       "        [3.01571145e-078],\n",
       "        [1.39273320e-078],\n",
       "        [1.00569027e-035],\n",
       "        [1.19157421e-034],\n",
       "        [1.35217051e-027],\n",
       "        [4.90796839e-020],\n",
       "        [1.65767491e-031],\n",
       "        [1.72194701e-021],\n",
       "        [3.08119146e-029],\n",
       "        [1.25534964e-041],\n",
       "        [6.24485230e-035],\n",
       "        [2.18925646e-005],\n",
       "        [3.15866313e-045],\n",
       "        [7.61379497e-030],\n",
       "        [1.54648848e-051],\n",
       "        [1.42213571e-029],\n",
       "        [1.36109655e-073],\n",
       "        [3.15197020e-052],\n",
       "        [8.58159060e-037],\n",
       "        [3.32060532e-048],\n",
       "        [1.51146655e-064],\n",
       "        [2.65231199e-038],\n",
       "        [2.53061303e-039],\n",
       "        [6.60504821e-065],\n",
       "        [2.41510002e-060],\n",
       "        [1.12646452e-026],\n",
       "        [4.94751255e-051],\n",
       "        [2.00989429e-025],\n",
       "        [2.02025560e-024],\n",
       "        [5.90052125e-050],\n",
       "        [8.35988366e-043],\n",
       "        [1.15187831e-018],\n",
       "        [1.60079231e-035],\n",
       "        [3.74751178e-027],\n",
       "        [2.05308064e-087],\n",
       "        [4.61459850e-028],\n",
       "        [5.80204657e-052],\n",
       "        [2.91799499e-025],\n",
       "        [1.12918877e-050],\n",
       "        [3.84883178e-061],\n",
       "        [9.99958511e-001],\n",
       "        [1.30174832e-055],\n",
       "        [4.79556602e-080],\n",
       "        [5.85380446e-032],\n",
       "        [2.32186552e-020],\n",
       "        [1.46405060e-090],\n",
       "        [2.05725271e-024],\n",
       "        [1.50163558e-100],\n",
       "        [1.99282744e-026],\n",
       "        [2.75131572e-043],\n",
       "        [1.50478341e-070]]),\n",
       " 'Y_pred': array([[1.],\n",
       "        [1.],\n",
       "        [1.],\n",
       "        [0.],\n",
       "        [1.],\n",
       "        [0.],\n",
       "        [1.],\n",
       "        [1.],\n",
       "        [1.],\n",
       "        [1.],\n",
       "        [1.],\n",
       "        [0.],\n",
       "        [1.],\n",
       "        [1.],\n",
       "        [1.],\n",
       "        [1.],\n",
       "        [1.],\n",
       "        [1.],\n",
       "        [1.],\n",
       "        [1.],\n",
       "        [1.],\n",
       "        [1.],\n",
       "        [0.],\n",
       "        [1.],\n",
       "        [0.],\n",
       "        [0.],\n",
       "        [0.],\n",
       "        [1.],\n",
       "        [1.],\n",
       "        [1.],\n",
       "        [1.],\n",
       "        [0.],\n",
       "        [1.],\n",
       "        [1.],\n",
       "        [0.],\n",
       "        [1.],\n",
       "        [0.],\n",
       "        [1.],\n",
       "        [1.],\n",
       "        [1.],\n",
       "        [1.],\n",
       "        [1.],\n",
       "        [0.],\n",
       "        [1.],\n",
       "        [0.],\n",
       "        [0.],\n",
       "        [1.],\n",
       "        [1.],\n",
       "        [1.],\n",
       "        [0.],\n",
       "        [1.],\n",
       "        [1.],\n",
       "        [0.],\n",
       "        [0.],\n",
       "        [1.],\n",
       "        [1.],\n",
       "        [1.],\n",
       "        [1.],\n",
       "        [1.],\n",
       "        [1.],\n",
       "        [1.],\n",
       "        [1.],\n",
       "        [1.],\n",
       "        [1.],\n",
       "        [1.],\n",
       "        [1.],\n",
       "        [1.],\n",
       "        [1.],\n",
       "        [1.],\n",
       "        [1.],\n",
       "        [0.],\n",
       "        [1.],\n",
       "        [1.],\n",
       "        [1.],\n",
       "        [0.],\n",
       "        [1.],\n",
       "        [1.],\n",
       "        [1.],\n",
       "        [0.],\n",
       "        [0.],\n",
       "        [0.],\n",
       "        [1.],\n",
       "        [1.],\n",
       "        [0.],\n",
       "        [1.],\n",
       "        [1.],\n",
       "        [1.],\n",
       "        [1.],\n",
       "        [1.],\n",
       "        [0.],\n",
       "        [1.],\n",
       "        [1.],\n",
       "        [1.],\n",
       "        [1.],\n",
       "        [1.],\n",
       "        [1.],\n",
       "        [0.],\n",
       "        [0.],\n",
       "        [1.],\n",
       "        [1.],\n",
       "        [1.],\n",
       "        [1.],\n",
       "        [1.],\n",
       "        [1.],\n",
       "        [1.],\n",
       "        [1.],\n",
       "        [1.],\n",
       "        [0.],\n",
       "        [1.],\n",
       "        [0.],\n",
       "        [0.],\n",
       "        [1.],\n",
       "        [1.],\n",
       "        [1.],\n",
       "        [1.],\n",
       "        [1.],\n",
       "        [1.],\n",
       "        [1.],\n",
       "        [1.],\n",
       "        [1.],\n",
       "        [1.],\n",
       "        [1.],\n",
       "        [1.],\n",
       "        [1.],\n",
       "        [1.],\n",
       "        [0.],\n",
       "        [1.],\n",
       "        [1.],\n",
       "        [1.],\n",
       "        [0.],\n",
       "        [1.],\n",
       "        [1.],\n",
       "        [0.],\n",
       "        [0.],\n",
       "        [1.],\n",
       "        [1.],\n",
       "        [1.],\n",
       "        [1.],\n",
       "        [1.],\n",
       "        [1.],\n",
       "        [1.],\n",
       "        [1.],\n",
       "        [1.],\n",
       "        [0.],\n",
       "        [1.],\n",
       "        [1.],\n",
       "        [1.],\n",
       "        [1.],\n",
       "        [0.],\n",
       "        [1.],\n",
       "        [1.],\n",
       "        [0.],\n",
       "        [1.],\n",
       "        [1.],\n",
       "        [0.],\n",
       "        [1.],\n",
       "        [0.],\n",
       "        [1.],\n",
       "        [1.],\n",
       "        [0.]]),\n",
       " 'AUC': 0.4250793650793651,\n",
       " 'Opt_threshold': 1.301748320364191e-55,\n",
       " 'Accuracy': 0.475,\n",
       " 'Misclassification': 0.525,\n",
       " 'Precision': 0.4426229508196721,\n",
       " 'Recall': 0.7714285714285715,\n",
       " 'Sensitivity': 0.7714285714285715,\n",
       " 'Specificity': 0.24444444444444444,\n",
       " 'F_score': 0.5625,\n",
       " 'Fall_out': 0.7555555555555555,\n",
       " 'Miss_rate': 0.22857142857142856}"
      ]
     },
     "execution_count": 184,
     "metadata": {},
     "output_type": "execute_result"
    }
   ],
   "source": [
    "LMF_class.validation(results_dict,\n",
    "                     X_test = [X_test, Y_test],\n",
    "                     X_test_aux = covariates_test,\n",
    "                     sub_iter=100,\n",
    "                     stopping_grad_ratio=0.0001)"
   ]
  },
  {
   "cell_type": "code",
   "execution_count": null,
   "metadata": {},
   "outputs": [],
   "source": []
  }
 ],
 "metadata": {
  "kernelspec": {
   "display_name": "colourgraphenv",
   "language": "python",
   "name": "colourgraphenv"
  },
  "language_info": {
   "codemirror_mode": {
    "name": "ipython",
    "version": 3
   },
   "file_extension": ".py",
   "mimetype": "text/x-python",
   "name": "python",
   "nbconvert_exporter": "python",
   "pygments_lexer": "ipython3",
   "version": "3.8.5"
  }
 },
 "nbformat": 4,
 "nbformat_minor": 4
}
