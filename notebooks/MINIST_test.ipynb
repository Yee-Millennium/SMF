{
 "cells": [
  {
   "cell_type": "code",
   "execution_count": 1,
   "metadata": {},
   "outputs": [
    {
     "name": "stderr",
     "output_type": "stream",
     "text": [
      "/Users/yee/Code/SMF_BCD/SMF/notebooks/../src/SMF.py:132: SyntaxWarning: invalid escape sequence '\\h'\n",
      "  '''\n",
      "/Users/yee/Code/SMF_BCD/SMF/notebooks/../src/SMF.py:180: SyntaxWarning: invalid escape sequence '\\h'\n",
      "  '''\n",
      "/Users/yee/Code/SMF_BCD/SMF/notebooks/../src/SMF.py:249: SyntaxWarning: invalid escape sequence '\\h'\n",
      "  '''\n",
      "/Users/yee/Code/SMF_BCD/SMF/notebooks/../src/SMF.py:1305: SyntaxWarning: invalid escape sequence '\\h'\n",
      "  '''\n",
      "/Users/yee/Code/SMF_BCD/SMF/notebooks/../src/SMF.py:1626: SyntaxWarning: invalid escape sequence '\\h'\n",
      "  '''\n"
     ]
    }
   ],
   "source": [
    "import numpy as np\n",
    "import pandas as pd\n",
    "from sklearn.datasets import fetch_openml\n",
    "from sklearn.utils.extmath import softmax\n",
    "import matplotlib.pyplot as plt\n",
    "from matplotlib import pyplot\n",
    "from sklearn import metrics\n",
    "from sklearn.metrics import accuracy_score\n",
    "from sklearn.metrics import confusion_matrix\n",
    "from mpl_toolkits.axes_grid1 import make_axes_locatable\n",
    "\n",
    "import sys\n",
    "sys.path.append('../src')  # Go one level up and then into src\n",
    "from SMF import SMF_BCD"
   ]
  },
  {
   "cell_type": "code",
   "execution_count": 2,
   "metadata": {},
   "outputs": [
    {
     "name": "stdout",
     "output_type": "stream",
     "text": [
      "X.shape (70000, 784)\n",
      "y.shape (70000,)\n"
     ]
    },
    {
     "data": {
      "text/plain": [
       "'\\nEach row of X is a vectroization of an image of 28 x 28 = 784 pixels.  \\nThe corresponding row of y holds the true class label from {0,1, .. , 9}.\\n'"
      ]
     },
     "execution_count": 2,
     "metadata": {},
     "output_type": "execute_result"
    }
   ],
   "source": [
    "# Load data from https://www.openml.org/d/554\n",
    "X, y = fetch_openml('mnist_784', version=1, return_X_y=True)\n",
    "# X = X.values  ### Uncomment this line if you are having type errors in plotting. It is loading as a pandas dataframe, but our indexing is for numpy array. \n",
    "X = X / 255.\n",
    "\n",
    "print('X.shape', X.shape)\n",
    "print('y.shape', y.shape)\n",
    "\n",
    "'''\n",
    "Each row of X is a vectroization of an image of 28 x 28 = 784 pixels.  \n",
    "The corresponding row of y holds the true class label from {0,1, .. , 9}.\n",
    "'''"
   ]
  },
  {
   "cell_type": "code",
   "execution_count": 3,
   "metadata": {},
   "outputs": [
    {
     "name": "stdout",
     "output_type": "stream",
     "text": [
      "(9, 70000)\n"
     ]
    }
   ],
   "source": [
    "### Change the dimension of y for SMF_BCD\n",
    "y_matrix = np.zeros((9, y.shape[0]))\n",
    "for i in range(y.shape[0]):\n",
    "    label = int(y[i])\n",
    "    if label == 0:\n",
    "        continue\n",
    "    else:\n",
    "        y_matrix[label-1, i] = 1\n",
    "\n",
    "print(y_matrix.shape)\n",
    "    "
   ]
  },
  {
   "cell_type": "code",
   "execution_count": 4,
   "metadata": {},
   "outputs": [
    {
     "name": "stdout",
     "output_type": "stream",
     "text": [
      "(70000, 784)\n"
     ]
    }
   ],
   "source": [
    "### Scale the input data\n",
    "from sklearn import preprocessing\n",
    "\n",
    "scaler = preprocessing.StandardScaler().fit(X)\n",
    "\n",
    "X= scaler.transform(X)\n",
    "\n",
    "print(X.shape)"
   ]
  },
  {
   "cell_type": "code",
   "execution_count": 5,
   "metadata": {},
   "outputs": [
    {
     "name": "stdout",
     "output_type": "stream",
     "text": [
      "initial loading beta [[-0.24713208 -0.16502029 -0.72739415  0.93740522  0.51324877  0.16835589\n",
      "  -0.1022606  -0.71414949 -0.91360427  0.14114404 -0.99973786  0.93778418\n",
      "  -0.3561813  -0.90874098  0.33421005 -0.27464951  0.15691223]\n",
      " [-0.35659867 -0.39145795  0.66841967 -0.21682826 -0.39745092 -0.07252743\n",
      "   0.66093681 -0.29065461 -0.69934996  0.86267101  0.24282517 -0.50167731\n",
      "  -0.22346797 -0.67118657 -0.91999964 -0.10864069 -0.40296393]\n",
      " [ 0.77645672 -0.55410985 -0.6941362   0.58460348 -0.59209899 -0.00550819\n",
      "  -0.26616368 -0.77187849  0.43833679  0.33279792  0.71018766  0.4767192\n",
      "  -0.37557289 -0.31966027 -0.68338665 -0.46639498 -0.32930403]\n",
      " [ 0.25647514 -0.57525013 -0.80713845 -0.61394304  0.35021833  0.86025939\n",
      "   0.61881346 -0.05923469 -0.49361872 -0.5724619  -0.7896673  -0.61322604\n",
      "  -0.07321513 -0.76869216 -0.50757986  0.23369111  0.24680886]\n",
      " [-0.89704298 -0.85825547 -0.13348194  0.63534402 -0.38931553 -0.51280816\n",
      "   0.549509    0.81273401  0.50274853 -0.22174298  0.06447141  0.41286642\n",
      "   0.66725268 -0.92174248  0.20654659 -0.87497723  0.30510439]\n",
      " [-0.74130455 -0.91079974 -0.61076845  0.05373143  0.51398725  0.93809548\n",
      "   0.19006189 -0.53300458 -0.52335714  0.93316992 -0.27914234 -0.77135724\n",
      "   0.45975674 -0.78345661 -0.77318052 -0.37695199 -0.72286074]\n",
      " [ 0.86827236 -0.38918917  0.2184673  -0.07423342  0.23972163 -0.02041958\n",
      "  -0.16649128  0.39122943 -0.43939046 -0.98819361 -0.66067814  0.1508174\n",
      "  -0.09409331 -0.60508295  0.05812024 -0.19765187  0.18889876]\n",
      " [-0.31727868 -0.86494255 -0.02227049 -0.11312892 -0.58808352 -0.02311696\n",
      "   0.77101635  0.61842392  0.53910295 -0.84743678 -0.05137771 -0.14571535\n",
      "   0.57598269  0.25948591 -0.22782764  0.08512368  0.69938275]\n",
      " [-0.60407279  0.341367   -0.70489444  0.88006608  0.1610054   0.72496883\n",
      "  -0.82175078 -0.00165629  0.02298162  0.68964822 -0.44302828  0.38112212\n",
      "  -0.52928548  0.66807546  0.18815621  0.23339187  0.17200701]]\n"
     ]
    },
    {
     "name": "stderr",
     "output_type": "stream",
     "text": [
      " 10%|█         | 10/100 [00:41<07:18,  4.87s/it]"
     ]
    },
    {
     "name": "stdout",
     "output_type": "stream",
     "text": [
      "!!! pred_type filter\n"
     ]
    },
    {
     "name": "stderr",
     "output_type": "stream",
     "text": [
      " 11%|█         | 11/100 [00:48<07:48,  5.26s/it]"
     ]
    },
    {
     "name": "stdout",
     "output_type": "stream",
     "text": [
      "!!! --- Validation --- [confusion_mx, Accuracy] =  [array([[559165,   7738],\n",
      "       [ 22438,  40659]]), np.float64(0.952)]\n"
     ]
    },
    {
     "name": "stderr",
     "output_type": "stream",
     "text": [
      " 20%|██        | 20/100 [01:30<06:19,  4.75s/it]"
     ]
    },
    {
     "name": "stdout",
     "output_type": "stream",
     "text": [
      "!!! pred_type filter\n"
     ]
    },
    {
     "name": "stderr",
     "output_type": "stream",
     "text": [
      " 21%|██        | 21/100 [01:35<06:20,  4.81s/it]"
     ]
    },
    {
     "name": "stdout",
     "output_type": "stream",
     "text": [
      "!!! --- Validation --- [confusion_mx, Accuracy] =  [array([[559546,   7357],\n",
      "       [ 18600,  44497]]), np.float64(0.959)]\n"
     ]
    },
    {
     "name": "stderr",
     "output_type": "stream",
     "text": [
      " 30%|███       | 30/100 [02:18<05:33,  4.76s/it]"
     ]
    },
    {
     "name": "stdout",
     "output_type": "stream",
     "text": [
      "!!! pred_type filter\n"
     ]
    },
    {
     "name": "stderr",
     "output_type": "stream",
     "text": [
      " 31%|███       | 31/100 [02:23<05:31,  4.80s/it]"
     ]
    },
    {
     "name": "stdout",
     "output_type": "stream",
     "text": [
      "!!! --- Validation --- [confusion_mx, Accuracy] =  [array([[559787,   7116],\n",
      "       [ 17097,  46000]]), np.float64(0.962)]\n"
     ]
    },
    {
     "name": "stderr",
     "output_type": "stream",
     "text": [
      " 40%|████      | 40/100 [02:58<04:04,  4.07s/it]"
     ]
    },
    {
     "name": "stdout",
     "output_type": "stream",
     "text": [
      "!!! pred_type filter\n"
     ]
    },
    {
     "name": "stderr",
     "output_type": "stream",
     "text": [
      " 41%|████      | 41/100 [03:02<04:02,  4.11s/it]"
     ]
    },
    {
     "name": "stdout",
     "output_type": "stream",
     "text": [
      "!!! --- Validation --- [confusion_mx, Accuracy] =  [array([[559803,   7100],\n",
      "       [ 16331,  46766]]), np.float64(0.963)]\n"
     ]
    },
    {
     "name": "stderr",
     "output_type": "stream",
     "text": [
      " 50%|█████     | 50/100 [03:43<04:00,  4.80s/it]"
     ]
    },
    {
     "name": "stdout",
     "output_type": "stream",
     "text": [
      "!!! pred_type filter\n"
     ]
    },
    {
     "name": "stderr",
     "output_type": "stream",
     "text": [
      " 51%|█████     | 51/100 [03:48<03:59,  4.88s/it]"
     ]
    },
    {
     "name": "stdout",
     "output_type": "stream",
     "text": [
      "!!! --- Validation --- [confusion_mx, Accuracy] =  [array([[559829,   7074],\n",
      "       [ 15865,  47232]]), np.float64(0.964)]\n"
     ]
    },
    {
     "name": "stderr",
     "output_type": "stream",
     "text": [
      " 60%|██████    | 60/100 [04:27<02:52,  4.32s/it]"
     ]
    },
    {
     "name": "stdout",
     "output_type": "stream",
     "text": [
      "!!! pred_type filter\n"
     ]
    },
    {
     "name": "stderr",
     "output_type": "stream",
     "text": [
      " 61%|██████    | 61/100 [04:32<02:55,  4.51s/it]"
     ]
    },
    {
     "name": "stdout",
     "output_type": "stream",
     "text": [
      "!!! --- Validation --- [confusion_mx, Accuracy] =  [array([[559833,   7070],\n",
      "       [ 15575,  47522]]), np.float64(0.964)]\n"
     ]
    },
    {
     "name": "stderr",
     "output_type": "stream",
     "text": [
      " 70%|███████   | 70/100 [05:13<02:00,  4.03s/it]"
     ]
    },
    {
     "name": "stdout",
     "output_type": "stream",
     "text": [
      "!!! pred_type filter\n"
     ]
    },
    {
     "name": "stderr",
     "output_type": "stream",
     "text": [
      " 71%|███████   | 71/100 [05:18<02:07,  4.40s/it]"
     ]
    },
    {
     "name": "stdout",
     "output_type": "stream",
     "text": [
      "!!! --- Validation --- [confusion_mx, Accuracy] =  [array([[559901,   7002],\n",
      "       [ 15384,  47713]]), np.float64(0.964)]\n"
     ]
    },
    {
     "name": "stderr",
     "output_type": "stream",
     "text": [
      " 80%|████████  | 80/100 [06:02<01:37,  4.89s/it]"
     ]
    },
    {
     "name": "stdout",
     "output_type": "stream",
     "text": [
      "!!! pred_type filter\n"
     ]
    },
    {
     "name": "stderr",
     "output_type": "stream",
     "text": [
      " 81%|████████  | 81/100 [06:10<01:49,  5.76s/it]"
     ]
    },
    {
     "name": "stdout",
     "output_type": "stream",
     "text": [
      "!!! --- Validation --- [confusion_mx, Accuracy] =  [array([[559901,   7002],\n",
      "       [ 15289,  47808]]), np.float64(0.965)]\n"
     ]
    },
    {
     "name": "stderr",
     "output_type": "stream",
     "text": [
      " 90%|█████████ | 90/100 [06:53<00:44,  4.47s/it]"
     ]
    },
    {
     "name": "stdout",
     "output_type": "stream",
     "text": [
      "!!! pred_type filter\n"
     ]
    },
    {
     "name": "stderr",
     "output_type": "stream",
     "text": [
      " 91%|█████████ | 91/100 [06:59<00:42,  4.71s/it]"
     ]
    },
    {
     "name": "stdout",
     "output_type": "stream",
     "text": [
      "!!! --- Validation --- [confusion_mx, Accuracy] =  [array([[559937,   6966],\n",
      "       [ 15195,  47902]]), np.float64(0.965)]\n"
     ]
    },
    {
     "name": "stderr",
     "output_type": "stream",
     "text": [
      "100%|██████████| 100/100 [07:42<00:00,  4.62s/it]\n",
      "/Users/yee/miniforge3/envs/REU2024/lib/python3.12/site-packages/sklearn/linear_model/_logistic.py:469: ConvergenceWarning: lbfgs failed to converge (status=1):\n",
      "STOP: TOTAL NO. of ITERATIONS REACHED LIMIT.\n",
      "\n",
      "Increase the number of iterations (max_iter) or scale the data as shown in:\n",
      "    https://scikit-learn.org/stable/modules/preprocessing.html\n",
      "Please also refer to the documentation for alternative solver options:\n",
      "    https://scikit-learn.org/stable/modules/linear_model.html#logistic-regression\n",
      "  n_iter_i = _check_optimize_result(\n"
     ]
    },
    {
     "name": "stdout",
     "output_type": "stream",
     "text": [
      "!!! pred_type filter\n",
      "!!! FINAL [confusion_mx, Accuracy] =  [array([[559892,   7011],\n",
      "       [ 15086,  48011]]), np.float64(0.965)]\n"
     ]
    }
   ],
   "source": [
    "n_components = 16\n",
    "\n",
    "SMF_Train = SMF_BCD([X.T, y_matrix], X_test=[X.T, y_matrix], xi= 5, n_components=n_components)\n",
    "\n",
    "results_dict = SMF_Train.fit(iter=100, subsample_size=None,# search_radius_const=200*np.linalg.norm(X),\n",
    "                                if_compute_recons_error=False, if_validate=True, threshhold=0.5)"
   ]
  },
  {
   "cell_type": "code",
   "execution_count": 6,
   "metadata": {},
   "outputs": [],
   "source": [
    "W = results_dict.get('loading')[0]\n",
    "beta= results_dict.get('loading')[1]\n",
    "H = results_dict.get('code')"
   ]
  },
  {
   "cell_type": "code",
   "execution_count": 7,
   "metadata": {},
   "outputs": [
    {
     "name": "stdout",
     "output_type": "stream",
     "text": [
      "The accuracy rate: 0.86\n"
     ]
    }
   ],
   "source": [
    "n = np.random.randint(0, 70000, size=100)\n",
    "X_test = np.ones((X.shape[1], 100))\n",
    "y_test = np.ones(shape=100)\n",
    "for i in range(100):\n",
    "    X_test[:, i] = X.T[:, n[i]]\n",
    "    y_test[i] = y[n[i]]\n",
    "\n",
    "p = np.zeros((100, 9))\n",
    "for i in range(100):\n",
    "    normalizer = 1 + np.sum(np.exp(beta[:, 1:] @ W.T @ X_test[:, i] + beta[:, 0]))\n",
    "    p[i] = (np.exp(beta[:, 1:] @ W.T @ X_test[:, i] + beta[:, 0]) / normalizer).T\n",
    "\n",
    "\n",
    "acc = 0\n",
    "for j in range(100):\n",
    "    prob = np.max(p[j])\n",
    "    number = np.argmax(p[j]) + 1\n",
    "    if (1 - np.sum(p[j])) > prob:\n",
    "        number = 0\n",
    "    if y_test[j] == number:\n",
    "        acc += 1\n",
    "\n",
    "print(f\"The accuracy rate: {acc/100}\")\n"
   ]
  },
  {
   "cell_type": "code",
   "execution_count": 11,
   "metadata": {},
   "outputs": [
    {
     "data": {
      "image/png": "[encoded data removed]",
      "text/plain": [
       "<Figure size 800x1000 with 20 Axes>"
      ]
     },
     "metadata": {},
     "output_type": "display_data"
    }
   ],
   "source": [
    "image = np.zeros((n_components, 28, 28))\n",
    "for i in range(n_components):\n",
    "    image[i] = W[:, i].reshape(28,28)\n",
    "\n",
    "images_per_row = 4\n",
    "n_rows = len(image) // images_per_row + 1\n",
    "\n",
    "# Create a figure with subplots\n",
    "fig, axes = plt.subplots(nrows=n_rows, ncols=images_per_row, figsize=(images_per_row * 2, n_rows * 2))\n",
    "\n",
    "for i, ax in enumerate(axes.flat):\n",
    "    if i < n_components:\n",
    "        # Reshape and display each component as an image\n",
    "        ax.imshow(image[i], cmap='Blues')  # Use gray scale color map\n",
    "        ax.axis('off')  # Hide axes\n",
    "    else:\n",
    "        ax.axis('off')  # Hide axes for empty subplots\n",
    "\n",
    "# Adjust layout\n",
    "plt.tight_layout()\n",
    "\n",
    "# Save the figure\n",
    "plt.savefig(\"MINIST\")\n",
    "\n",
    "# Display the plot if needed\n",
    "plt.show()"
   ]
  },
  {
   "cell_type": "code",
   "execution_count": 12,
   "metadata": {},
   "outputs": [
    {
     "name": "stdout",
     "output_type": "stream",
     "text": [
      "[-8.66388865  0.06041741 -0.03536996 -1.51563364  1.35672452 -1.35471623\n",
      " -1.34750462  1.76427491 -0.51221079]\n"
     ]
    }
   ],
   "source": [
    "print(beta.T[0])"
   ]
  },
  {
   "cell_type": "markdown",
   "metadata": {},
   "source": []
  }
 ],
 "metadata": {
  "kernelspec": {
   "display_name": "REU2024",
   "language": "python",
   "name": "python3"
  },
  "language_info": {
   "codemirror_mode": {
    "name": "ipython",
    "version": 3
   },
   "file_extension": ".py",
   "mimetype": "text/x-python",
   "name": "python",
   "nbconvert_exporter": "python",
   "pygments_lexer": "ipython3",
   "version": "3.12.4"
  }
 },
 "nbformat": 4,
 "nbformat_minor": 2
}
