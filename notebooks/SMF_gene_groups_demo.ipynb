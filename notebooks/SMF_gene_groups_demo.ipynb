{
 "cells": [
  {
   "cell_type": "code",
   "execution_count": 2,
   "id": "c7417f02-cf62-4634-9b9f-79055572b9b0",
   "metadata": {},
   "outputs": [],
   "source": [
    "import numpy as np\n",
    "import pandas as pd\n",
    "import matplotlib.pyplot as plt\n",
    "import seaborn as sns\n",
    "from sklearn.linear_model import LogisticRegression\n",
    "from sklearn.decomposition import PCA, TruncatedSVD\n",
    "from sklearn.model_selection import train_test_split\n",
    "import matplotlib.gridspec as gridspec\n",
    "\n",
    "import sys\n",
    "sys.path.append('../src')  # Go one level up and then into src\n",
    "from SMF import SMF_BCD, SMF_LPGD, rank_r_projection, compute_accuracy_metrics\n",
    "from SMF_torch import smf"
   ]
  },
  {
   "cell_type": "markdown",
   "id": "6983cd56",
   "metadata": {},
   "source": [
    "# Microarray Cancer Data"
   ]
  },
  {
   "cell_type": "markdown",
   "id": "5b6d8d06",
   "metadata": {},
   "source": [
    "## Read data"
   ]
  },
  {
   "cell_type": "code",
   "execution_count": 3,
   "id": "48679e2c",
   "metadata": {},
   "outputs": [
    {
     "name": "stdout",
     "output_type": "stream",
     "text": [
      "X.shape= (51, 54675)\n"
     ]
    }
   ],
   "source": [
    "import pandas as pd\n",
    "import numpy as np\n",
    "from sklearn.model_selection import train_test_split\n",
    "import seaborn as sns\n",
    "sns.set_style(\"whitegrid\")\n",
    "\n",
    "#sys.path.append('../data')  # Go one level up and then into src\n",
    "\n",
    "\"\"\"\n",
    "data = pd.read_csv('../Data/Breast_GSE70947.csv')\n",
    "y = data['type'].values\n",
    "y = [1 if y[i] == 'breast_adenocarcinoma' else 0 for i in range(len(y))]\n",
    "X = data.drop(columns=['samples', 'type']).values\n",
    "X = (X - np.mean(X, axis = 0))/(100*np.std(X, axis = 0)) # normalization\n",
    "print(\"X.shape=\", X.shape)\n",
    "\n",
    "\"\"\"\n",
    "\n",
    "data = pd.read_csv('../Data/Pancreatic_GSE16515.csv')\n",
    "y = data['type'].values\n",
    "y = [1 if y[i] == 'tumoral' else 0 for i in range(len(y))]\n",
    "X0 = data.drop(columns=['samples', 'type']).values\n",
    "X = (X0 - np.mean(X0, axis = 0))/(100*np.std(X0, axis = 0)) # normalization\n",
    "#X = 10*X0/np.linalg.norm(X0)\n",
    "print(\"X.shape=\", X.shape)\n",
    "\n",
    "\n",
    "X_train, X_test, Y_train, Y_test = train_test_split(X, y, test_size=0.5, random_state=0)\n",
    "X_train, X_test = X_train.T, X_test.T\n",
    "Y_train, Y_test = np.asarray([Y_train]), np.asarray([Y_test])\n",
    "covariate_train, covariate_test = None, None\n",
    "\n",
    "gene_list0 = data.keys()\n",
    "gene_list = gene_list0[2:]"
   ]
  },
  {
   "cell_type": "markdown",
   "id": "f02c78df",
   "metadata": {},
   "source": [
    "## SMF-W"
   ]
  },
  {
   "cell_type": "markdown",
   "id": "21fe09d7",
   "metadata": {},
   "source": [
    "### Use Block Coordiante Descent to fit SMF-W"
   ]
  },
  {
   "cell_type": "code",
   "execution_count": 4,
   "id": "07d0e429",
   "metadata": {},
   "outputs": [
    {
     "name": "stdout",
     "output_type": "stream",
     "text": [
      "initial loading beta [[ 0.39532324  0.95018579 -0.47923339]]\n"
     ]
    },
    {
     "name": "stderr",
     "output_type": "stream",
     "text": [
      "100%|██████████| 100/100 [00:04<00:00, 22.55it/s]"
     ]
    },
    {
     "name": "stdout",
     "output_type": "stream",
     "text": [
      "!!! pred_type filter\n",
      "--- Training --- [threshold, AUC] =  [np.float64(0.547), np.float64(1.0)]\n"
     ]
    },
    {
     "name": "stderr",
     "output_type": "stream",
     "text": [
      "\n"
     ]
    }
   ],
   "source": [
    "r = 2 # number of latent gene groups\n",
    "xi = 0.1 # supervision parameter (weight for the matrix factorization loss)\n",
    "iteration = 100\n",
    "\n",
    "\n",
    "U0, S0, H0, recons = rank_r_projection(X_train, r)\n",
    "W0 = U0 @ np.diag(S0) # initial filters = latent gene groups \n",
    "W0 = [W0, 1-2*np.random.rand(Y_train.shape[0], r + 1)] # initial filters + regression coefficients\n",
    "\n",
    "SMF_BCD_class = SMF_BCD(X=[X_train, Y_train],  # data, label\n",
    "                            X_test=[X_test, Y_test], \n",
    "                            n_components=r,  \n",
    "                            ini_loading=W0,  # Initializatio for [W,W'], W1.shape = [d1, r], W2.shape = [d2, r]\n",
    "                            # ini_loading=[W_true, np.hstack((np.array([[0]]), Beta_true))],\n",
    "                            ini_code = H0,\n",
    "                            xi=xi,  # weight on label reconstruction error\n",
    "                            nonnegativity=[False,False,False]) # nonnegativity constraints on code H, dictionary W[0], reg params W[1]\n",
    "\n",
    "results_dict = SMF_BCD_class.fit(iter=iteration, subsample_size=None,\n",
    "                                    option = \"filter\",\n",
    "                                    if_compute_recons_error=False, if_validate=False)\n",
    "\n",
    "results_dict.update({'method': 'SMF-W'})\n",
    "results_dict.update({'r': r})\n",
    "results_dict.update({'xi': xi})\n",
    "results_dict.update({'nu': None})"
   ]
  },
  {
   "cell_type": "code",
   "execution_count": 5,
   "id": "ae131b12",
   "metadata": {},
   "outputs": [
    {
     "data": {
      "image/png": "[encoded data removed]",
      "text/plain": [
       "<Figure size 400x400 with 1 Axes>"
      ]
     },
     "metadata": {},
     "output_type": "display_data"
    }
   ],
   "source": [
    "import matplotlib.patches as mpatches\n",
    "\n",
    "fig = plt.figure(figsize=[4,4], constrained_layout=False)\n",
    "outer_grid = gridspec.GridSpec(nrows=1, ncols=1, wspace=0, hspace=0)\n",
    "inner_grid = outer_grid[0,0].subgridspec(1, 1, wspace=0, hspace=0)\n",
    "ax = fig.add_subplot(inner_grid[0, 0])\n",
    "colors = [\"r\", \"b\"]\n",
    "\n",
    "W = results_dict.get(\"loading\")[0]\n",
    "Beta = results_dict.get(\"loading\")[1]\n",
    "X_comp = W.T @ X.T\n",
    "\n",
    "for i in np.arange(len(y)):\n",
    "    x1 = X_comp[0,i]\n",
    "    x2 = X_comp[1,i]\n",
    "    label = y[i]\n",
    "    \n",
    "    if label == 0:\n",
    "        ax.scatter(x1, x2, s=20, c=\"b\", alpha=1)\n",
    "    else:\n",
    "        ax.scatter(x1, x2, s=20, c=\"r\", alpha=1)\n",
    "        \n",
    "red_patch = mpatches.Patch(color='red', label='Cancer')\n",
    "blue_patch = mpatches.Patch(color='blue', label='Normal')\n",
    "ax.legend(handles=[red_patch, blue_patch])\n",
    "\n",
    "beta1 = np.round(Beta[0,1], 3)\n",
    "beta2 = np.round(Beta[0,2], 3)\n",
    "ax.set_xlabel(r\"Composite Var. #1 ($\\beta_{1}=$\"+str(beta1) + \")\")\n",
    "ax.set_ylabel(r\"Composite Var. #2 ($\\beta_{2}=$\"+str(beta2) + \")\")\n",
    "\n",
    "\n",
    "\n",
    "plt.savefig(\"plot1\", bbox_inches=\"tight\", dpi=300)"
   ]
  },
  {
   "cell_type": "code",
   "execution_count": 6,
   "id": "66f7822d",
   "metadata": {},
   "outputs": [
    {
     "name": "stdout",
     "output_type": "stream",
     "text": [
      "latent gene groups = \n",
      "[[ 0.00884487 -0.00113733]\n",
      " [ 0.00185007 -0.0011099 ]\n",
      " [ 0.00575163 -0.00098218]\n",
      " ...\n",
      " [-0.00017352  0.00097945]\n",
      " [-0.00090507  0.00127224]\n",
      " [ 0.00218125  0.00066555]]\n",
      "regression coefficients associated to the latent gene groups = [ 2.3110244 -0.4720917]\n",
      "intercept term = 0.8545092800166683\n"
     ]
    }
   ],
   "source": [
    "print(\"latent gene groups = \" + \"\\n\" + \"{}\".format(W))\n",
    "print(\"regression coefficients associated to the latent gene groups = {}\".format(Beta[0,1:]))\n",
    "print(\"intercept term = {}\".format(Beta[0,0]))"
   ]
  },
  {
   "cell_type": "markdown",
   "id": "c264babc",
   "metadata": {},
   "source": [
    "### Use Low-rank Projected Gradient Descent to fit SMF-W"
   ]
  },
  {
   "cell_type": "code",
   "execution_count": 7,
   "id": "4b51f2d5",
   "metadata": {},
   "outputs": [
    {
     "name": "stdout",
     "output_type": "stream",
     "text": [
      "initial loading beta [[-0.4537394   0.12281804  0.26683164]]\n"
     ]
    },
    {
     "name": "stderr",
     "output_type": "stream",
     "text": [
      "100%|██████████| 100/100 [00:10<00:00,  9.74it/s]"
     ]
    },
    {
     "name": "stdout",
     "output_type": "stream",
     "text": [
      "!!! pred_type filter\n",
      "--- Training --- [threshold, AUC] =  [np.float64(0.597), np.float64(0.937)]\n",
      "!!! ACC_list [np.float64(0.9230769230769231)]\n",
      "--- Validation (filter) --- [threshold, AUC, accuracy, rel_error_data] = [0.565, 0.992, 0.923, 0.854]\n"
     ]
    },
    {
     "name": "stderr",
     "output_type": "stream",
     "text": [
      "\n"
     ]
    }
   ],
   "source": [
    "r = 2 # number of latent gene groups\n",
    "xi = 1 # supervision parameter (weight for the matrix factorization loss)\n",
    "iteration = 100\n",
    "\n",
    "U0, S0, H0, recons = rank_r_projection(X_train, r)\n",
    "W0 = U0 @ np.diag(S0) # initial filters = latent gene groups \n",
    "W0 = [W0, 1-2*np.random.rand(Y_train.shape[0], r + 1)] # initial filters + regression coefficients\n",
    "\n",
    "SMF_LPGD_class = SMF_LPGD(X=[X_train, Y_train],  # data, label\n",
    "                        X_test=[X_test, Y_test],\n",
    "                        n_components=r,  # =: r = number of columns in dictionary matrices W, W'\n",
    "                        ini_loading = W0,  # Initializatio for [W,W'], W1.shape = [d1, r], W2.shape = [d2, r]\n",
    "                        # ini_loading=[W_true, np.hstack((np.array([[0]]), Beta_true))],\n",
    "                        ini_code = H0,\n",
    "                        xi=xi)  # weight on label reconstruction error\n",
    "                       \n",
    "\n",
    "results_dict = SMF_LPGD_class.fit(iter=iteration, \n",
    "                                    beta = 0,\n",
    "                                    nu = 0,\n",
    "                                    stepsize=0.01,\n",
    "                                    if_compute_recons_error=False, if_validate=False)\n",
    "\n",
    "results_dict.update({'method': 'SDL-W'})\n",
    "results_dict.update({'r': r})\n",
    "results_dict.update({'xi': xi})\n",
    "results_dict.update({'nu': None})"
   ]
  },
  {
   "cell_type": "code",
   "execution_count": 8,
   "id": "ccebd0f4",
   "metadata": {},
   "outputs": [
    {
     "data": {
      "image/png": "[encoded data removed]",
      "text/plain": [
       "<Figure size 400x400 with 1 Axes>"
      ]
     },
     "metadata": {},
     "output_type": "display_data"
    }
   ],
   "source": [
    "import matplotlib.patches as mpatches\n",
    "\n",
    "fig = plt.figure(figsize=[4,4], constrained_layout=False)\n",
    "outer_grid = gridspec.GridSpec(nrows=1, ncols=1, wspace=0, hspace=0)\n",
    "inner_grid = outer_grid[0,0].subgridspec(1, 1, wspace=0, hspace=0)\n",
    "ax = fig.add_subplot(inner_grid[0, 0])\n",
    "colors = [\"r\", \"b\"]\n",
    "\n",
    "W = results_dict.get(\"loading\")[0]\n",
    "Beta = results_dict.get(\"loading\")[1]\n",
    "X_comp = W.T @ X.T\n",
    "\n",
    "for i in np.arange(len(y)):\n",
    "    x1 = X_comp[0,i]\n",
    "    x2 = X_comp[1,i]\n",
    "    label = y[i]\n",
    "    \n",
    "    if label == 0:\n",
    "        ax.scatter(x1, x2, s=20, c=\"b\", alpha=1)\n",
    "    else:\n",
    "        ax.scatter(x1, x2, s=20, c=\"r\", alpha=1)\n",
    "        \n",
    "red_patch = mpatches.Patch(color='red', label='Cancer')\n",
    "blue_patch = mpatches.Patch(color='blue', label='Normal')\n",
    "ax.legend(handles=[red_patch, blue_patch])\n",
    "\n",
    "beta1 = np.round(Beta[0,1], 3)\n",
    "beta2 = np.round(Beta[0,2], 3)\n",
    "ax.set_xlabel(r\"Composite Var. #1 ($\\beta_{1}=$\"+str(beta1) + \")\")\n",
    "ax.set_ylabel(r\"Composite Var. #2 ($\\beta_{2}=$\"+str(beta2) + \")\")\n",
    "\n",
    "\n",
    "\n",
    "plt.savefig(\"plot2\", bbox_inches=\"tight\", dpi=300)"
   ]
  },
  {
   "cell_type": "code",
   "execution_count": 9,
   "id": "99afc953",
   "metadata": {},
   "outputs": [
    {
     "name": "stdout",
     "output_type": "stream",
     "text": [
      "latent gene groups = \n",
      "[[-0.00146097  0.00470533]\n",
      " [-0.00400841  0.00048889]\n",
      " [-0.00309081  0.00536019]\n",
      " ...\n",
      " [ 0.00453894 -0.00058663]\n",
      " [ 0.00479726  0.00072078]\n",
      " [ 0.00331029  0.00257354]]\n",
      "regression coefficients associated to the latent gene groups = [-2.13982442  2.78238762]\n",
      "intercept term = 0.914656341635983\n"
     ]
    }
   ],
   "source": [
    "print(\"latent gene groups = \" + \"\\n\" + \"{}\".format(W))\n",
    "print(\"regression coefficients associated to the latent gene groups = {}\".format(Beta[0,1:]))\n",
    "print(\"intercept term = {}\".format(Beta[0,0]))"
   ]
  },
  {
   "cell_type": "markdown",
   "id": "d1de7c4e",
   "metadata": {},
   "source": [
    "### Use Pytorch implementation of BCD to fit SMF-W (utilizes GPU if possible)"
   ]
  },
  {
   "cell_type": "code",
   "execution_count": 10,
   "id": "f8853735",
   "metadata": {},
   "outputs": [
    {
     "ename": "TypeError",
     "evalue": "expected np.ndarray (got list)",
     "output_type": "error",
     "traceback": [
      "\u001b[0;31m---------------------------------------------------------------------------\u001b[0m",
      "\u001b[0;31mTypeError\u001b[0m                                 Traceback (most recent call last)",
      "Cell \u001b[0;32mIn[10], line 27\u001b[0m\n\u001b[1;32m     24\u001b[0m X_train, X_test, Y_train, Y_test \u001b[38;5;241m=\u001b[39m train_test_split(X, y, test_size\u001b[38;5;241m=\u001b[39mtest_size, random_state\u001b[38;5;241m=\u001b[39m\u001b[38;5;241m2\u001b[39m)\n\u001b[1;32m     26\u001b[0m X_train \u001b[38;5;241m=\u001b[39m Variable(torch\u001b[38;5;241m.\u001b[39mfrom_numpy(X_train))\u001b[38;5;241m.\u001b[39mfloat()\n\u001b[0;32m---> 27\u001b[0m y_train \u001b[38;5;241m=\u001b[39m Variable(\u001b[43mtorch\u001b[49m\u001b[38;5;241;43m.\u001b[39;49m\u001b[43mfrom_numpy\u001b[49m\u001b[43m(\u001b[49m\u001b[43mY_train\u001b[49m\u001b[43m)\u001b[49m)\u001b[38;5;241m.\u001b[39mlong()\n\u001b[1;32m     28\u001b[0m X_test \u001b[38;5;241m=\u001b[39m Variable(torch\u001b[38;5;241m.\u001b[39mfrom_numpy(X_test))\u001b[38;5;241m.\u001b[39mfloat()\n\u001b[1;32m     29\u001b[0m y_test \u001b[38;5;241m=\u001b[39m Variable(torch\u001b[38;5;241m.\u001b[39mfrom_numpy(Y_test))\u001b[38;5;241m.\u001b[39mlong()\n",
      "\u001b[0;31mTypeError\u001b[0m: expected np.ndarray (got list)"
     ]
    }
   ],
   "source": [
    "from sklearn.model_selection import train_test_split\n",
    "import numpy as np\n",
    "import torch\n",
    "from torch.autograd import Variable\n",
    "\n",
    "\"\"\"\n",
    "#data = pd.read_csv('../Data/Pancreatic_GSE16515.csv')\n",
    "data = pd.read_csv('../Data/Breast_GSE70947.csv')\n",
    "\n",
    "print(data.shape)\n",
    "y = data['type'].values\n",
    "y = [1 if y[i] == 'breast_adenocarcinoma' else 0 for i in range(len(y))]\n",
    "y = np.array(y)\n",
    "X = data.drop(columns=['samples', 'type']).values\n",
    "X = (X - np.mean(X, axis = 0))/(100*np.std(X, axis = 0)) # normalization\n",
    "\"\"\"\n",
    "\n",
    "\n",
    "hidden_size = 2\n",
    "\n",
    "Accuracy = []\n",
    "test_size = 0.5\n",
    "\n",
    "X_train, X_test, Y_train, Y_test = train_test_split(X, y, test_size=test_size, random_state=2)\n",
    "\n",
    "X_train = Variable(torch.from_numpy(X_train)).float()\n",
    "y_train = Variable(torch.from_numpy(Y_train)).long()\n",
    "X_test = Variable(torch.from_numpy(X_test)).float()\n",
    "y_test = Variable(torch.from_numpy(Y_test)).long()\n",
    "\n",
    "smf_model = smf(X_train, y_train, hidden_size, device='cuda')\n",
    "smf_model.fit(num_epochs=10000,\n",
    "               lr_classification=0.01,\n",
    "               lr_matrix_factorization=0.01,\n",
    "               xi=1,\n",
    "               initialize='spectral',\n",
    "               W_nonnegativity=True,\n",
    "               H_nonnegativity=True,\n",
    "               test_data=[X_test, y_test],\n",
    "               record_recons_error=True)\n",
    "Accuracy.append(scmf_model.test(X_test, y_test))"
   ]
  },
  {
   "cell_type": "code",
   "execution_count": null,
   "id": "f83c3be0",
   "metadata": {},
   "outputs": [],
   "source": []
  }
 ],
 "metadata": {
  "kernelspec": {
   "display_name": "REU2024",
   "language": "python",
   "name": "python3"
  },
  "language_info": {
   "codemirror_mode": {
    "name": "ipython",
    "version": 3
   },
   "file_extension": ".py",
   "mimetype": "text/x-python",
   "name": "python",
   "nbconvert_exporter": "python",
   "pygments_lexer": "ipython3",
   "version": "3.12.4"
  }
 },
 "nbformat": 4,
 "nbformat_minor": 5
}
